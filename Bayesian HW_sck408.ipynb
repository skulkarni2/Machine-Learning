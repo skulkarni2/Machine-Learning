{
 "cells": [
  {
   "cell_type": "code",
   "execution_count": 1,
   "metadata": {
    "collapsed": true
   },
   "outputs": [],
   "source": [
    "from IPython.display import Image\n",
    "import seaborn as sns"
   ]
  },
  {
   "cell_type": "markdown",
   "metadata": {},
   "source": [
    "### Q1. (15pts) \n",
    "\n",
    "（Solve by hand)\n",
    "\n",
    "Given the following learned Bayesian network structure explaining the relationships\n",
    "\n",
    "between variables in container shipping data:"
   ]
  },
  {
   "cell_type": "code",
   "execution_count": 2,
   "metadata": {
    "collapsed": false
   },
   "outputs": [
    {
     "data": {
      "image/png": "Q1.png",
      "text/plain": [
       "<IPython.core.display.Image object>"
      ]
     },
     "execution_count": 2,
     "metadata": {},
     "output_type": "execute_result"
    }
   ],
   "source": [
    "Image('Q1.png')"
   ]
  },
  {
   "cell_type": "markdown",
   "metadata": {},
   "source": [
    "1) Which of the following conditional independence relationships hold? Choose\n",
    "\n",
    "“Independent” or “Dependent” for each (6 points):\n",
    "\n",
    "CI (Shipper Name, Value | F Port)?\n",
    "\n",
    "CI (Shipper Name, Value | Shipping Line)? \n",
    "\n",
    "CI (Foreign Port, Commodity | Country)? \n",
    "\n",
    "CI (Foreign Port, Commodity | County, Weight)? "
   ]
  },
  {
   "cell_type": "markdown",
   "metadata": {},
   "source": [
    "### Answer\n",
    "\n",
    "\n",
    "CI (Shipper Name, Value | F Port) - **Dependent**\n",
    "\n",
    "CI (Shipper Name, Value | Shipping Line) - **Independent**\n",
    "\n",
    "CI (Foreign Port, Commodity | Country) - **Independent**\n",
    "\n",
    "CI (Foreign Port, Commodity | County, Weight) - **Dependent**"
   ]
  },
  {
   "cell_type": "markdown",
   "metadata": {},
   "source": [
    "2) Now consider a smaller dataset with only four discrete attributes (Shipping Line, US\n",
    "\n",
    "Port, Foreign Port, Weight), and the following conditional probability distributions:\n",
    "\n",
    "Shipping Line: CSCO (70%), ASCO (30%)\n",
    "\n",
    "Foreign Port | Shipping Line = CSCO: Yokohama (40%), Vancouver (60%)\n",
    "\n",
    "Foreign Port | Shipping Line = ASCO: Vancouver (100%)\n",
    "\n",
    "US Port | Shipping Line = ASCO: Seattle (100%)\n",
    "\n",
    "US Port | Shipping Line = CSCO: Seattle (10%), Los Angeles (90%)\n",
    "\n",
    "Weight | Shipping Line = ASCO, Foreign Port = Vancouver: Light (30%), Medium (50%), Heavy (20%)\n",
    "\n",
    "Weight | Shipping Line = CSCO, Foreign Port = Vancouver: Light (15%), Medium (70%), Heavy (15%)\n",
    "\n",
    "Weight | Shipping Line = CSCO, Foreign Port = Yokohama: Light (10%), Medium (30%), Heavy (60%)\n",
    "\n",
    "Which of the following packages is most anomalous?\n",
    "\n",
    "a) A heavy package shipped from Vancouver to Seattle by ASCO\n",
    "\n",
    "b) A heavy package shipped from Vancouver to Seattle by CSCO\n",
    "\n",
    "c) A heavy package shipped from Yokohama to Los Angeles by CSCO\n",
    "\n",
    "To answer this question, compute the likelihood of each package given the Bayesian Network (lowest likelihood = most anomalous). You must show your calculations to receive credit. (9 points)"
   ]
  },
  {
   "cell_type": "markdown",
   "metadata": {},
   "source": [
    "#### a) A heavy package shipped from Vancouver to Seattle by ASCO"
   ]
  },
  {
   "cell_type": "markdown",
   "metadata": {},
   "source": [
    "#### Pr(Shipping Line = ASCO, Foreign Port = Vancouver, US Port = Seattle, Weight = Heavy) = \n",
    "                         Pr(ASCO)*\n",
    "                         Pr(Foreign Port = Vancouver | Shipping Line = ASCO)*\n",
    "                         Pr(US Port = Seattle | Shipping Line = ASCO)* \n",
    "                         Pr(Weight = Heavy | Shipping Line = ASCO, Foreign Port = Vancouver)\n",
    "\n",
    "Pr(ASCO) = 0.3 or 30%\n",
    "\n",
    "Pr(Foreign Port = Vancouver | Shipping Line = ASCO) = 1.0 or 100%\n",
    "\n",
    "Pr(US Port = Seattle | Shipping Line = ASCO) = 1.0 or 100%\n",
    "\n",
    "Pr(Weight = Heavy | Shipping Line = ASCO, Foreign Port = Vancouver) = 0.2 or 20% "
   ]
  },
  {
   "cell_type": "code",
   "execution_count": 3,
   "metadata": {
    "collapsed": false
   },
   "outputs": [
    {
     "name": "stdout",
     "output_type": "stream",
     "text": [
      "The Likelihood of a heavy package shipped from Vancouver to Seattle by ASCO is 0.06\n"
     ]
    }
   ],
   "source": [
    "print(\"The Likelihood of a heavy package shipped from Vancouver to Seattle by ASCO is {0}\".\\\n",
    "      format(0.3* 1.0* 1.0* 0.2))"
   ]
  },
  {
   "cell_type": "markdown",
   "metadata": {
    "collapsed": true
   },
   "source": [
    "### b) A heavy package shipped from Vancouver to Seattle by CSCO\n",
    "\n",
    "#### Pr(Shipping Line = CSCO, Foreign Port = Vancouver, US Port = Seattle, Weight = Heavy) =\n",
    "                        Pr(CSCO)*\n",
    "                        Pr(Foreign Port = Vancouver | Shipping Line = CSCO)*\n",
    "                        Pr(US Port = Seattle | Shipping Line = CSCO)* \n",
    "                        Pr(Weight = Heavy | Shipping Line = CSCO, Foreign Port = Vancouver)\n",
    "                        \n",
    "Pr(CSCO) = 0.7 or 70%\n",
    "\n",
    "Pr(Foreign Port = Vancouver | Shipping Line = CSCO) = 0.6 or 60% \n",
    "\n",
    "Pr(US Port = Seattle | Shipping Line = CSCO) = 0.1 or 10%\n",
    "\n",
    "Pr(Weight = Heavy | Shipping Line = CSCO, Foreign Port = Vancouver) = 0.15 or 15%"
   ]
  },
  {
   "cell_type": "code",
   "execution_count": 4,
   "metadata": {
    "collapsed": false
   },
   "outputs": [
    {
     "name": "stdout",
     "output_type": "stream",
     "text": [
      "The Likelihood of a heavy package shipped from Vancouver to Seattle by CSCO is 0.0063\n"
     ]
    }
   ],
   "source": [
    "print(\"The Likelihood of a heavy package shipped from Vancouver to Seattle by CSCO is {0}\"\\\n",
    "      .format(0.7* 0.6* 0.1* 0.15))"
   ]
  },
  {
   "cell_type": "markdown",
   "metadata": {},
   "source": [
    "#### c) A heavy package shipped from Yokohama to Los Angeles by CSCO\n",
    "\n",
    "#### Pr(Shipping Line = CSCO, Foreign Port = Yokohama, US Port = Los Angeles, Weight = Heavy) = \n",
    "                          Pr(CSCO)*\n",
    "                          Pr(Foreign Port = Yokohama | Shipping Line = CSCO)*\n",
    "                          Pr(US Port = Los Angeles | Shipping Line = CSCO)* \n",
    "                          Pr(Weight = Heavy | Shipping Line = CSCO, Foreign Port = Yokohama)\n",
    "                          \n",
    "Pr(CSCO) = 0.7 or 70%\n",
    "\n",
    "Pr(Foreign Port = Yokohama | Shipping Line = CSCO) = 0.4 or 40% \n",
    "\n",
    "Pr(US Port = Los Angeles | Shipping Line = CSCO) = 0.9 or 90%\n",
    "\n",
    "Pr(Weight = Heavy | Shipping Line = CSCO, Foreign Port = Yokohama) = 0.6 or 60%"
   ]
  },
  {
   "cell_type": "code",
   "execution_count": 5,
   "metadata": {
    "collapsed": false
   },
   "outputs": [
    {
     "name": "stdout",
     "output_type": "stream",
     "text": [
      "The Likelihood of a heavy package shipped from Yokohama to Los Angeles by CSCO is 0.1512\n"
     ]
    }
   ],
   "source": [
    "print(\"The Likelihood of a heavy package shipped from Yokohama to Los Angeles by CSCO is {0}\"\\\n",
    "      .format(0.7* 0.4* 0.9* 0.6))"
   ]
  },
  {
   "cell_type": "markdown",
   "metadata": {},
   "source": [
    "#####  The lowest likelihood is the most anomalous\n",
    "\n",
    "#### A heavy package shipped from Vancouver to Seattle by CSCO is the most anomalous. "
   ]
  },
  {
   "cell_type": "code",
   "execution_count": null,
   "metadata": {
    "collapsed": true
   },
   "outputs": [],
   "source": []
  },
  {
   "cell_type": "markdown",
   "metadata": {},
   "source": [
    "### Q2. Bayesian Network Learning (35pts)\n",
    "\n",
    "In this question, we use data: \"Q2.csv\" for Bayesian Network Learning."
   ]
  },
  {
   "cell_type": "code",
   "execution_count": 15,
   "metadata": {
    "collapsed": false
   },
   "outputs": [],
   "source": [
    "import pandas as pd\n",
    "data2=pd.read_csv(\"https://serv.cusp.nyu.edu/classes/ML_2016_Spring/ML_2017/Q2.csv\")\n",
    "from sklearn.cross_validation import train_test_split\n",
    "train,test=train_test_split(data2,random_state=100,test_size=0.4)"
   ]
  },
  {
   "cell_type": "code",
   "execution_count": 16,
   "metadata": {
    "collapsed": false
   },
   "outputs": [
    {
     "data": {
      "text/html": [
       "<div>\n",
       "<table border=\"1\" class=\"dataframe\">\n",
       "  <thead>\n",
       "    <tr style=\"text-align: right;\">\n",
       "      <th></th>\n",
       "      <th>A</th>\n",
       "      <th>B</th>\n",
       "      <th>C</th>\n",
       "      <th>D</th>\n",
       "      <th>E</th>\n",
       "      <th>F</th>\n",
       "      <th>G</th>\n",
       "      <th>H</th>\n",
       "    </tr>\n",
       "  </thead>\n",
       "  <tbody>\n",
       "    <tr>\n",
       "      <th>0</th>\n",
       "      <td>2</td>\n",
       "      <td>1</td>\n",
       "      <td>0</td>\n",
       "      <td>0</td>\n",
       "      <td>1</td>\n",
       "      <td>0</td>\n",
       "      <td>1</td>\n",
       "      <td>3</td>\n",
       "    </tr>\n",
       "    <tr>\n",
       "      <th>1</th>\n",
       "      <td>4</td>\n",
       "      <td>1</td>\n",
       "      <td>1</td>\n",
       "      <td>2</td>\n",
       "      <td>0</td>\n",
       "      <td>1</td>\n",
       "      <td>0</td>\n",
       "      <td>4</td>\n",
       "    </tr>\n",
       "    <tr>\n",
       "      <th>2</th>\n",
       "      <td>3</td>\n",
       "      <td>2</td>\n",
       "      <td>0</td>\n",
       "      <td>0</td>\n",
       "      <td>0</td>\n",
       "      <td>2</td>\n",
       "      <td>0</td>\n",
       "      <td>3</td>\n",
       "    </tr>\n",
       "    <tr>\n",
       "      <th>3</th>\n",
       "      <td>4</td>\n",
       "      <td>1</td>\n",
       "      <td>0</td>\n",
       "      <td>0</td>\n",
       "      <td>2</td>\n",
       "      <td>1</td>\n",
       "      <td>2</td>\n",
       "      <td>7</td>\n",
       "    </tr>\n",
       "    <tr>\n",
       "      <th>4</th>\n",
       "      <td>5</td>\n",
       "      <td>1</td>\n",
       "      <td>1</td>\n",
       "      <td>2</td>\n",
       "      <td>1</td>\n",
       "      <td>0</td>\n",
       "      <td>2</td>\n",
       "      <td>8</td>\n",
       "    </tr>\n",
       "  </tbody>\n",
       "</table>\n",
       "</div>"
      ],
      "text/plain": [
       "   A  B  C  D  E  F  G  H\n",
       "0  2  1  0  0  1  0  1  3\n",
       "1  4  1  1  2  0  1  0  4\n",
       "2  3  2  0  0  0  2  0  3\n",
       "3  4  1  0  0  2  1  2  7\n",
       "4  5  1  1  2  1  0  2  8"
      ]
     },
     "execution_count": 16,
     "metadata": {},
     "output_type": "execute_result"
    }
   ],
   "source": [
    "data2.head()"
   ]
  },
  {
   "cell_type": "markdown",
   "metadata": {},
   "source": [
    "### a) Use the training data to select the best structure you want to use for Bayesian Network Learning. Please use Hill Climbing with BIC score metric. (10pts)\n"
   ]
  },
  {
   "cell_type": "code",
   "execution_count": 17,
   "metadata": {
    "collapsed": false
   },
   "outputs": [
    {
     "name": "stdout",
     "output_type": "stream",
     "text": [
      "[('A', 'C'), ('A', 'H'), ('A', 'D'), ('B', 'A'), ('H', 'G')]\n"
     ]
    }
   ],
   "source": [
    "from pgmpy.estimators import BdeuScore, K2Score, BicScore\n",
    "from pgmpy.models import BayesianModel\n",
    "from pgmpy.estimators import HillClimbSearch\n",
    "\n",
    "hc = HillClimbSearch(train, scoring_method=BicScore(train))\n",
    "best_model = hc.estimate(tabu_length = 180)\n",
    "print(best_model.edges())"
   ]
  },
  {
   "cell_type": "markdown",
   "metadata": {
    "collapsed": true
   },
   "source": [
    "### b) Use Bayesian Estimator to estimate the CPDs for your model and visulize the network with CPDs. (15pts)"
   ]
  },
  {
   "cell_type": "code",
   "execution_count": 20,
   "metadata": {
    "collapsed": false
   },
   "outputs": [
    {
     "name": "stderr",
     "output_type": "stream",
     "text": [
      "WARNING:root:Replacing existing CPD for A\n",
      "WARNING:root:Replacing existing CPD for C\n",
      "WARNING:root:Replacing existing CPD for D\n",
      "WARNING:root:Replacing existing CPD for G\n",
      "WARNING:root:Replacing existing CPD for B\n",
      "WARNING:root:Replacing existing CPD for H\n",
      "WARNING:root:Replacing existing CPD for F\n",
      "WARNING:root:Replacing existing CPD for E\n"
     ]
    },
    {
     "name": "stdout",
     "output_type": "stream",
     "text": [
      "CPD of A:\n",
      "╒══════╤═══════════════════════╤════════════════════════╤════════════════════════╕\n",
      "│ B    │ B(0)                  │ B(1)                   │ B(2)                   │\n",
      "├──────┼───────────────────────┼────────────────────────┼────────────────────────┤\n",
      "│ A(0) │ 0.032616005379959644  │ 0.00032509752925877764 │ 0.00033557046979865765 │\n",
      "├──────┼───────────────────────┼────────────────────────┼────────────────────────┤\n",
      "│ A(1) │ 0.0729657027572293    │ 0.008127438231469442   │ 0.00033557046979865765 │\n",
      "├──────┼───────────────────────┼────────────────────────┼────────────────────────┤\n",
      "│ A(2) │ 0.14761264290517817   │ 0.051040312093628096   │ 0.018456375838926172   │\n",
      "├──────┼───────────────────────┼────────────────────────┼────────────────────────┤\n",
      "│ A(3) │ 0.22629455279085403   │ 0.1778283485045514     │ 0.06677852348993286    │\n",
      "├──────┼───────────────────────┼────────────────────────┼────────────────────────┤\n",
      "│ A(4) │ 0.25857431069266973   │ 0.25780234070221064    │ 0.15134228187919463    │\n",
      "├──────┼───────────────────────┼────────────────────────┼────────────────────────┤\n",
      "│ A(5) │ 0.1698049764626765    │ 0.25975292587776333    │ 0.2661073825503355     │\n",
      "├──────┼───────────────────────┼────────────────────────┼────────────────────────┤\n",
      "│ A(6) │ 0.07700067249495626   │ 0.16612483745123538    │ 0.23590604026845635    │\n",
      "├──────┼───────────────────────┼────────────────────────┼────────────────────────┤\n",
      "│ A(7) │ 0.014458641560188295  │ 0.060793237971391426   │ 0.17953020134228187    │\n",
      "├──────┼───────────────────────┼────────────────────────┼────────────────────────┤\n",
      "│ A(8) │ 0.0003362474781439138 │ 0.01788036410923277    │ 0.05671140939597315    │\n",
      "├──────┼───────────────────────┼────────────────────────┼────────────────────────┤\n",
      "│ A(9) │ 0.0003362474781439138 │ 0.00032509752925877764 │ 0.02449664429530201    │\n",
      "╘══════╧═══════════════════════╧════════════════════════╧════════════════════════╛\n",
      "CPD of C:\n",
      "╒══════╤══════════════════════╤═════════════════════╤═════════════════════╤═════════════════════╤════════════════════╤═════════════════════╤═════════════════════╤═════════════════════╤═══════════════════════╤══════════════════════╕\n",
      "│ A    │ A(0)                 │ A(1)                │ A(2)                │ A(3)                │ A(4)               │ A(5)                │ A(6)                │ A(7)                │ A(8)                  │ A(9)                 │\n",
      "├──────┼──────────────────────┼─────────────────────┼─────────────────────┼─────────────────────┼────────────────────┼─────────────────────┼─────────────────────┼─────────────────────┼───────────────────────┼──────────────────────┤\n",
      "│ C(0) │ 0.9797979797979797   │ 0.8436213991769548  │ 0.6927803379416282  │ 0.55461592670895    │ 0.3700943864878291 │ 0.25512637100619934 │ 0.12127512127512129 │ 0.05620915032679739 │ 0.0044444444444444444 │ 0.013333333333333332 │\n",
      "├──────┼──────────────────────┼─────────────────────┼─────────────────────┼─────────────────────┼────────────────────┼─────────────────────┼─────────────────────┼─────────────────────┼───────────────────────┼──────────────────────┤\n",
      "│ C(1) │ 0.010101010101010098 │ 0.15226337448559674 │ 0.2780337941628264  │ 0.27554615926708953 │ 0.3671137605563835 │ 0.38960419647114924 │ 0.36659736659736664 │ 0.3071895424836601  │ 0.21777777777777776   │ 0.013333333333333332 │\n",
      "├──────┼──────────────────────┼─────────────────────┼─────────────────────┼─────────────────────┼────────────────────┼─────────────────────┼─────────────────────┼─────────────────────┼───────────────────────┼──────────────────────┤\n",
      "│ C(2) │ 0.010101010101010098 │ 0.00411522633744856 │ 0.02918586789554531 │ 0.16983791402396053 │ 0.2627918529557874 │ 0.3552694325226514  │ 0.5121275121275122  │ 0.6366013071895426  │ 0.7777777777777778    │ 0.9733333333333333   │\n",
      "╘══════╧══════════════════════╧═════════════════════╧═════════════════════╧═════════════════════╧════════════════════╧═════════════════════╧═════════════════════╧═════════════════════╧═══════════════════════╧══════════════════════╛\n",
      "CPD of D:\n",
      "╒══════╤══════════════════════╤══════════════════════╤═════════════════════╤═════════════════════╤════════════════════╤════════════════════╤═════════════════════╤═════════════════════╤═══════════════════════╤══════════════════════╕\n",
      "│ A    │ A(0)                 │ A(1)                 │ A(2)                │ A(3)                │ A(4)               │ A(5)               │ A(6)                │ A(7)                │ A(8)                  │ A(9)                 │\n",
      "├──────┼──────────────────────┼──────────────────────┼─────────────────────┼─────────────────────┼────────────────────┼────────────────────┼─────────────────────┼─────────────────────┼───────────────────────┼──────────────────────┤\n",
      "│ D(0) │ 0.9797979797979797   │ 0.720164609053498    │ 0.6466973886328725  │ 0.5038759689922481  │ 0.3432687531048187 │ 0.2522651406771579 │ 0.15453915453915454 │ 0.08758169934640522 │ 0.0044444444444444444 │ 0.013333333333333332 │\n",
      "├──────┼──────────────────────┼──────────────────────┼─────────────────────┼─────────────────────┼────────────────────┼────────────────────┼─────────────────────┼─────────────────────┼───────────────────────┼──────────────────────┤\n",
      "│ D(1) │ 0.010101010101010098 │ 0.27572016460905346  │ 0.28725038402457753 │ 0.3601127554615927  │ 0.3671137605563835 │ 0.3724368144969003 │ 0.3582813582813583  │ 0.3150326797385621  │ 0.19111111111111112   │ 0.013333333333333332 │\n",
      "├──────┼──────────────────────┼──────────────────────┼─────────────────────┼─────────────────────┼────────────────────┼────────────────────┼─────────────────────┼─────────────────────┼───────────────────────┼──────────────────────┤\n",
      "│ D(2) │ 0.010101010101010098 │ 0.004115226337448559 │ 0.06605222734254992 │ 0.13601127554615924 │ 0.2896174863387978 │ 0.3752980448259418 │ 0.4871794871794872  │ 0.5973856209150327  │ 0.8044444444444445    │ 0.9733333333333333   │\n",
      "╘══════╧══════════════════════╧══════════════════════╧═════════════════════╧═════════════════════╧════════════════════╧════════════════════╧═════════════════════╧═════════════════════╧═══════════════════════╧══════════════════════╛\n",
      "CPD of G:\n",
      "╒══════╤═════════════════════╤══════════════════════╤═════════════════════╤═════════════════════╤═════════════════════╤═════════════════════╤═════════════════════╤════════════════════╤═════════════════════╤══════════════════════╤═════════════════════╤══════════════════════╤═════════════════════╕\n",
      "│ H    │ H(0)                │ H(1)                 │ H(2)                │ H(3)                │ H(4)                │ H(5)                │ H(6)                │ H(7)               │ H(8)                │ H(9)                 │ H(10)               │ H(11)                │ H(12)               │\n",
      "├──────┼─────────────────────┼──────────────────────┼─────────────────────┼─────────────────────┼─────────────────────┼─────────────────────┼─────────────────────┼────────────────────┼─────────────────────┼──────────────────────┼─────────────────────┼──────────────────────┼─────────────────────┤\n",
      "│ G(0) │ 0.9242424242424242  │ 0.7233333333333334   │ 0.6328725038402457  │ 0.6879960317460317  │ 0.4875943905070118  │ 0.45770024385668734 │ 0.3165200896706329  │ 0.189194637637335  │ 0.15417743324720073 │ 0.044684984734943096 │ 0.06465288818229994 │ 0.020080321285140562 │ 0.05376344086021505 │\n",
      "├──────┼─────────────────────┼──────────────────────┼─────────────────────┼─────────────────────┼─────────────────────┼─────────────────────┼─────────────────────┼────────────────────┼─────────────────────┼──────────────────────┼─────────────────────┼──────────────────────┼─────────────────────┤\n",
      "│ G(1) │ 0.03787878787878787 │ 0.2683333333333333   │ 0.30337941628264203 │ 0.24305555555555558 │ 0.3493604561565727  │ 0.3552804351903958  │ 0.34342127953095364 │ 0.3857474044955146 │ 0.31733727082564295 │ 0.2611712461837358   │ 0.2713301536830948  │ 0.17670682730923695  │ 0.05376344086021505 │\n",
      "├──────┼─────────────────────┼──────────────────────┼─────────────────────┼─────────────────────┼─────────────────────┼─────────────────────┼─────────────────────┼────────────────────┼─────────────────────┼──────────────────────┼─────────────────────┼──────────────────────┼─────────────────────┤\n",
      "│ G(2) │ 0.03787878787878787 │ 0.008333333333333333 │ 0.06374807987711213 │ 0.0689484126984127  │ 0.16304515333641548 │ 0.18701932095291693 │ 0.34005863079841353 │ 0.4250579578671505 │ 0.5284852959271564  │ 0.694143769081321    │ 0.6640169581346053  │ 0.8032128514056225   │ 0.8924731182795699  │\n",
      "╘══════╧═════════════════════╧══════════════════════╧═════════════════════╧═════════════════════╧═════════════════════╧═════════════════════╧═════════════════════╧════════════════════╧═════════════════════╧══════════════════════╧═════════════════════╧══════════════════════╧═════════════════════╛\n",
      "CPD of B:\n",
      "╒══════╤══════════╕\n",
      "│ B(0) │ 0.329347 │\n",
      "├──────┼──────────┤\n",
      "│ B(1) │ 0.340642 │\n",
      "├──────┼──────────┤\n",
      "│ B(2) │ 0.330011 │\n",
      "╘══════╧══════════╛\n",
      "CPD of H:\n",
      "╒═══════╤═══════════════════════╤═══════════════════════╤════════════════════════╤════════════════════════╤════════════════════════╤════════════════════════╤════════════════════════╤════════════════════════╤═══════════════════════╤══════════════════════╕\n",
      "│ A     │ A(0)                  │ A(1)                  │ A(2)                   │ A(3)                   │ A(4)                   │ A(5)                   │ A(6)                   │ A(7)                   │ A(8)                  │ A(9)                 │\n",
      "├───────┼───────────────────────┼───────────────────────┼────────────────────────┼────────────────────────┼────────────────────────┼────────────────────────┼────────────────────────┼────────────────────────┼───────────────────────┼──────────────────────┤\n",
      "│ H(0)  │ 0.184149184149184     │ 0.0009496676163342827 │ 0.00035448422545196755 │ 0.00016262806960481375 │ 0.00011463945890175397 │ 0.00011004732034774952 │ 0.00015992323684631377 │ 0.00030165912518853697 │ 0.0010256410256410256 │ 0.003076923076923077 │\n",
      "├───────┼───────────────────────┼───────────────────────┼────────────────────────┼────────────────────────┼────────────────────────┼────────────────────────┼────────────────────────┼────────────────────────┼───────────────────────┼──────────────────────┤\n",
      "│ H(1)  │ 0.30536130536130507   │ 0.24786324786324776   │ 0.00035448422545196755 │ 0.00016262806960481375 │ 0.00011463945890175397 │ 0.00011004732034774952 │ 0.00015992323684631377 │ 0.00030165912518853697 │ 0.0010256410256410256 │ 0.003076923076923077 │\n",
      "├───────┼───────────────────────┼───────────────────────┼────────────────────────┼────────────────────────┼────────────────────────┼────────────────────────┼────────────────────────┼────────────────────────┼───────────────────────┼──────────────────────┤\n",
      "│ H(2)  │ 0.30536130536130507   │ 0.3466286799620132    │ 0.12938674228996816    │ 0.00016262806960481375 │ 0.00011463945890175397 │ 0.00011004732034774952 │ 0.00015992323684631377 │ 0.00030165912518853697 │ 0.0010256410256410256 │ 0.003076923076923077 │\n",
      "├───────┼───────────────────────┼───────────────────────┼────────────────────────┼────────────────────────┼────────────────────────┼────────────────────────┼────────────────────────┼────────────────────────┼───────────────────────┼──────────────────────┤\n",
      "│ H(3)  │ 0.184149184149184     │ 0.24786324786324776   │ 0.40588443814250286    │ 0.19466579931696207    │ 0.00011463945890175397 │ 0.00011004732034774952 │ 0.00015992323684631377 │ 0.00030165912518853697 │ 0.0010256410256410256 │ 0.003076923076923077 │\n",
      "├───────┼───────────────────────┼───────────────────────┼────────────────────────┼────────────────────────┼────────────────────────┼────────────────────────┼────────────────────────┼────────────────────────┼───────────────────────┼──────────────────────┤\n",
      "│ H(4)  │ 0.0023310023310023293 │ 0.1490978157644824    │ 0.32293512938674246    │ 0.3172873637989916     │ 0.14914593603118192    │ 0.00011004732034774952 │ 0.00015992323684631377 │ 0.00030165912518853697 │ 0.0010256410256410256 │ 0.003076923076923077 │\n",
      "├───────┼───────────────────────┼───────────────────────┼────────────────────────┼────────────────────────┼────────────────────────┼────────────────────────┼────────────────────────┼────────────────────────┼───────────────────────┼──────────────────────┤\n",
      "│ H(5)  │ 0.0023310023310023293 │ 0.0009496676163342827 │ 0.1386033321517193     │ 0.3088307041795413     │ 0.3786541327524933     │ 0.16606140640475403    │ 0.00015992323684631377 │ 0.00030165912518853697 │ 0.0010256410256410256 │ 0.003076923076923077 │\n",
      "├───────┼───────────────────────┼───────────────────────┼────────────────────────┼────────────────────────┼────────────────────────┼────────────────────────┼────────────────────────┼────────────────────────┼───────────────────────┼──────────────────────┤\n",
      "│ H(6)  │ 0.0023310023310023293 │ 0.0009496676163342827 │ 0.00035448422545196755 │ 0.17775248007806144    │ 0.3220222400550269     │ 0.33201276548916026    │ 0.1290580521349752     │ 0.00030165912518853697 │ 0.0010256410256410256 │ 0.003076923076923077 │\n",
      "├───────┼───────────────────────┼───────────────────────┼────────────────────────┼────────────────────────┼────────────────────────┼────────────────────────┼────────────────────────┼────────────────────────┼───────────────────────┼──────────────────────┤\n",
      "│ H(7)  │ 0.0023310023310023293 │ 0.0009496676163342827 │ 0.00035448422545196755 │ 0.00016262806960481375 │ 0.14914593603118192    │ 0.3234290745020358     │ 0.3120102350871581     │ 0.12579185520361993    │ 0.0010256410256410256 │ 0.003076923076923077 │\n",
      "├───────┼───────────────────────┼───────────────────────┼────────────────────────┼────────────────────────┼────────────────────────┼────────────────────────┼────────────────────────┼────────────────────────┼───────────────────────┼──────────────────────┤\n",
      "│ H(8)  │ 0.0023310023310023293 │ 0.0009496676163342827 │ 0.00035448422545196755 │ 0.00016262806960481375 │ 0.00011463945890175397 │ 0.17750632772091998    │ 0.3826963057732288     │ 0.3689291101055807     │ 0.18769230769230769   │ 0.003076923076923077 │\n",
      "├───────┼───────────────────────┼───────────────────────┼────────────────────────┼────────────────────────┼────────────────────────┼────────────────────────┼────────────────────────┼────────────────────────┼───────────────────────┼──────────────────────┤\n",
      "│ H(9)  │ 0.0023310023310023293 │ 0.0009496676163342827 │ 0.00035448422545196755 │ 0.00016262806960481375 │ 0.00011463945890175397 │ 0.00011004732034774952 │ 0.17479609787302094    │ 0.3297134238310709     │ 0.18769230769230769   │ 0.08307692307692309  │\n",
      "├───────┼───────────────────────┼───────────────────────┼────────────────────────┼────────────────────────┼────────────────────────┼────────────────────────┼────────────────────────┼────────────────────────┼───────────────────────┼──────────────────────┤\n",
      "│ H(10) │ 0.0023310023310023293 │ 0.0009496676163342827 │ 0.00035448422545196755 │ 0.00016262806960481375 │ 0.00011463945890175397 │ 0.00011004732034774952 │ 0.00015992323684631377 │ 0.1728506787330317     │ 0.5343589743589744    │ 0.48307692307692307  │\n",
      "├───────┼───────────────────────┼───────────────────────┼────────────────────────┼────────────────────────┼────────────────────────┼────────────────────────┼────────────────────────┼────────────────────────┼───────────────────────┼──────────────────────┤\n",
      "│ H(11) │ 0.0023310023310023293 │ 0.0009496676163342827 │ 0.00035448422545196755 │ 0.00016262806960481375 │ 0.00011463945890175397 │ 0.00011004732034774952 │ 0.00015992323684631377 │ 0.00030165912518853697 │ 0.08102564102564103   │ 0.24307692307692308  │\n",
      "├───────┼───────────────────────┼───────────────────────┼────────────────────────┼────────────────────────┼────────────────────────┼────────────────────────┼────────────────────────┼────────────────────────┼───────────────────────┼──────────────────────┤\n",
      "│ H(12) │ 0.0023310023310023293 │ 0.0009496676163342827 │ 0.00035448422545196755 │ 0.00016262806960481375 │ 0.00011463945890175397 │ 0.00011004732034774952 │ 0.00015992323684631377 │ 0.00030165912518853697 │ 0.0010256410256410256 │ 0.16307692307692306  │\n",
      "╘═══════╧═══════════════════════╧═══════════════════════╧════════════════════════╧════════════════════════╧════════════════════════╧════════════════════════╧════════════════════════╧════════════════════════╧═══════════════════════╧══════════════════════╛\n",
      "CPD of F:\n",
      "╒══════╤══════════╕\n",
      "│ F(0) │ 0.341307 │\n",
      "├──────┼──────────┤\n",
      "│ F(1) │ 0.318715 │\n",
      "├──────┼──────────┤\n",
      "│ F(2) │ 0.339978 │\n",
      "╘══════╧══════════╛\n",
      "CPD of E:\n",
      "╒══════╤══════════╕\n",
      "│ E(0) │ 0.342636 │\n",
      "├──────┼──────────┤\n",
      "│ E(1) │ 0.335327 │\n",
      "├──────┼──────────┤\n",
      "│ E(2) │ 0.322038 │\n",
      "╘══════╧══════════╛\n"
     ]
    }
   ],
   "source": [
    "from pgmpy.estimators import BayesianEstimator\n",
    "\n",
    "best_model.fit(train, estimator=BayesianEstimator, prior_type='BDeu', equivalent_sample_size=5)\n",
    "for cpd in best_model.get_cpds():\n",
    "    print(\"CPD of {variable}:\".format(variable=cpd.variable))\n",
    "    print(cpd)"
   ]
  },
  {
   "cell_type": "markdown",
   "metadata": {},
   "source": [
    "### c) Use the model to predict \"A\" using the testing dataset. Report the OS prediction accuracy. (10pts)   "
   ]
  },
  {
   "cell_type": "code",
   "execution_count": 21,
   "metadata": {
    "collapsed": false
   },
   "outputs": [
    {
     "name": "stdout",
     "output_type": "stream",
     "text": [
      "The OS prediction accuracy is 0.498\n"
     ]
    }
   ],
   "source": [
    "print(\"The OS prediction accuracy is {}\".format(\n",
    "    (best_model.predict(test.loc[:,['B','C','D','G','H']]).A == test.A).sum()*1.0/len(test)))"
   ]
  },
  {
   "cell_type": "markdown",
   "metadata": {},
   "source": [
    "### Q3. Clustering: Spatial and Temporal Distributions of Chicago Crimes (50pts)\n",
    "In this question, you will use k-means clustering in sklearn and Hierarchical Clustering in Scipy to answer the question, “Do different types of crime display different trends over space and time?”  The dataset “Q3.csv” consists of data for 119 different types of crime, each of which occurred at least 100 times in Chicago during the year 2016.  For each crime type, we have various features representing the spatial and temporal distribution of crime, including:\n",
    "\n",
    "-The proportion of all crimes of that type that occurred on each day of the week (day_Sun, day_Mon, …, day_Sat).\n",
    "\n",
    "-The proportion of all crimes of that type that occurred on each hour of the day (hour_0 = midnight to 12:59am, hour_1 = 1am to 1:59am, …, hour_23 = 11pm to 11:59pm).\n",
    "\n",
    "-The proportion of all crime of that type that occurred in each of the 77 community areas of Chicago (community_area_1 … community_area_77).\n",
    "\n",
    "We also have, for each crime type, its categorization by the FBI:\n",
    "\n",
    "-Category = “P1V” corresponds to Part 1 Violent Crime, i.e., serious violent crimes\n",
    "\n",
    "-Category = “P1P” corresponds to Part 1 Property Crime, i.e., serious property crimes\n",
    "\n",
    "-Category = “P2” corresponds to Part 2 (less serious) crimes.\n",
    "\n",
    "For parts a-f, you should cluster the 119 crime types into k = 3 clusters using only the hour of day attributes using k-means clustering in sklearn and hierarchical clustering clustering in scipy."
   ]
  },
  {
   "cell_type": "markdown",
   "metadata": {},
   "source": [
    "a) Copy each cluster’s mean values for hour_0…hour_23 into a DataFrame and create a line graph to visualize these values by cluster.  (5 pts)\n",
    "\n",
    "b) Describe the three different hour-of-day trends represented by these three clusters (5 pts).\n",
    "\n",
    "c) Do you notice any consistent trends about which crime types are assigned to which cluster?  Note that by a \"crime type\", we are referring to specific crimes such as \"narcotics\" or \"assault\", not the FBI categories. (5 pts)  \n",
    "\n",
    "d) Do the three clusters have different day-of-week trends?  Again, visualize the trends for each cluster by creating a line graph and discuss any notable differences.  (5 pts)\n",
    "\n",
    "e) Do the three clusters affect different types of communities/neighborhoods?  To answer this question, you could first compute the proportions of \"cluster 1\", \"cluster 2\", and \"cluster 3\" crimes for each community area, and identify particular community areas with disproportionate amounts of a given cluster.  You can then use the provided file(data4), to determine whether these community areas have any notable common characteristics (poverty, overcrowding, etc.).  (5 pts)\n",
    "\n",
    "f) How well do the three groups formed by clustering hour-of-day trends correspond to the FBI’s division between P1V, P1P, and P2 crimes? (5 pts)\n",
    "\n",
    "g) For part g, you will use the same dataset to compare the clusters produced by several different methods.  But this time you should cluster using only the _day-of-week_ (not hour-of-day) attributes.  Please perform four different clusterings using (i) k-means, (ii) Gaussian mixture models, (iii) Bottom-up hierarchical clustering with \"single link\" distance metric, and (iv) Bottom-up hierarchical clustering with \"complete link\" distance metric.  In each case, you should choose the number of clusters using the silhouette method (or another established method of your choice- please specify).  For each clustering, report the number of clusters formed and the number of elements in each cluster. You should also identify any notable similarities or differences between the clusterings. (20 pts)\n"
   ]
  },
  {
   "cell_type": "code",
   "execution_count": 22,
   "metadata": {
    "collapsed": true
   },
   "outputs": [],
   "source": [
    "#Use package from sklearn.\n",
    "from sklearn.cluster import KMeans\n",
    "from sklearn import preprocessing\n",
    "from matplotlib import pyplot as plt\n",
    "from scipy.cluster.hierarchy import dendrogram, linkage\n",
    "from sklearn.metrics import silhouette_samples, silhouette_score\n",
    "import pandas as pd\n",
    "import numpy as np\n",
    "%matplotlib inline"
   ]
  },
  {
   "cell_type": "code",
   "execution_count": 23,
   "metadata": {
    "collapsed": false
   },
   "outputs": [],
   "source": [
    "data3=pd.read_csv(\"https://serv.cusp.nyu.edu/classes/ML_2016_Spring/ML_2017/Q3.csv\")"
   ]
  },
  {
   "cell_type": "code",
   "execution_count": 24,
   "metadata": {
    "collapsed": false
   },
   "outputs": [
    {
     "data": {
      "text/html": [
       "<div>\n",
       "<table border=\"1\" class=\"dataframe\">\n",
       "  <thead>\n",
       "    <tr style=\"text-align: right;\">\n",
       "      <th></th>\n",
       "      <th>crime_type</th>\n",
       "      <th>Category</th>\n",
       "      <th>day_Sun</th>\n",
       "      <th>day_Mon</th>\n",
       "      <th>day_Tue</th>\n",
       "      <th>day_Wed</th>\n",
       "      <th>day_Thu</th>\n",
       "      <th>day_Fri</th>\n",
       "      <th>day_Sat</th>\n",
       "      <th>hour_0</th>\n",
       "      <th>...</th>\n",
       "      <th>community_area_68</th>\n",
       "      <th>community_area_69</th>\n",
       "      <th>community_area_70</th>\n",
       "      <th>community_area_71</th>\n",
       "      <th>community_area_72</th>\n",
       "      <th>community_area_73</th>\n",
       "      <th>community_area_74</th>\n",
       "      <th>community_area_75</th>\n",
       "      <th>community_area_76</th>\n",
       "      <th>community_area_77</th>\n",
       "    </tr>\n",
       "  </thead>\n",
       "  <tbody>\n",
       "    <tr>\n",
       "      <th>0</th>\n",
       "      <td>ARSON: BY FIRE</td>\n",
       "      <td>P1P</td>\n",
       "      <td>0.138810</td>\n",
       "      <td>0.135977</td>\n",
       "      <td>0.155807</td>\n",
       "      <td>0.121813</td>\n",
       "      <td>0.130312</td>\n",
       "      <td>0.147309</td>\n",
       "      <td>0.169972</td>\n",
       "      <td>0.073654</td>\n",
       "      <td>...</td>\n",
       "      <td>0.019830</td>\n",
       "      <td>0.016997</td>\n",
       "      <td>0.019830</td>\n",
       "      <td>0.022663</td>\n",
       "      <td>0.005666</td>\n",
       "      <td>0.000000</td>\n",
       "      <td>0.002833</td>\n",
       "      <td>0.005666</td>\n",
       "      <td>0.000000</td>\n",
       "      <td>0.002833</td>\n",
       "    </tr>\n",
       "    <tr>\n",
       "      <th>1</th>\n",
       "      <td>ASSAULT: AGG PO HANDS NO/MIN INJURY</td>\n",
       "      <td>P2</td>\n",
       "      <td>0.151852</td>\n",
       "      <td>0.118519</td>\n",
       "      <td>0.162963</td>\n",
       "      <td>0.122222</td>\n",
       "      <td>0.129630</td>\n",
       "      <td>0.129630</td>\n",
       "      <td>0.185185</td>\n",
       "      <td>0.055556</td>\n",
       "      <td>...</td>\n",
       "      <td>0.037037</td>\n",
       "      <td>0.048148</td>\n",
       "      <td>0.018519</td>\n",
       "      <td>0.025926</td>\n",
       "      <td>0.003704</td>\n",
       "      <td>0.003704</td>\n",
       "      <td>0.003704</td>\n",
       "      <td>0.011111</td>\n",
       "      <td>0.011111</td>\n",
       "      <td>0.007407</td>\n",
       "    </tr>\n",
       "    <tr>\n",
       "      <th>2</th>\n",
       "      <td>ASSAULT: AGGRAVATED: HANDGUN</td>\n",
       "      <td>P1V</td>\n",
       "      <td>0.149912</td>\n",
       "      <td>0.139405</td>\n",
       "      <td>0.141506</td>\n",
       "      <td>0.131349</td>\n",
       "      <td>0.136953</td>\n",
       "      <td>0.133100</td>\n",
       "      <td>0.167776</td>\n",
       "      <td>0.040630</td>\n",
       "      <td>...</td>\n",
       "      <td>0.035377</td>\n",
       "      <td>0.031524</td>\n",
       "      <td>0.013310</td>\n",
       "      <td>0.042732</td>\n",
       "      <td>0.002102</td>\n",
       "      <td>0.017863</td>\n",
       "      <td>0.000000</td>\n",
       "      <td>0.012259</td>\n",
       "      <td>0.002102</td>\n",
       "      <td>0.003152</td>\n",
       "    </tr>\n",
       "    <tr>\n",
       "      <th>3</th>\n",
       "      <td>ASSAULT: AGGRAVATED: OTHER DANG WEAPON</td>\n",
       "      <td>P1V</td>\n",
       "      <td>0.125000</td>\n",
       "      <td>0.139000</td>\n",
       "      <td>0.148000</td>\n",
       "      <td>0.153000</td>\n",
       "      <td>0.133000</td>\n",
       "      <td>0.142000</td>\n",
       "      <td>0.160000</td>\n",
       "      <td>0.034000</td>\n",
       "      <td>...</td>\n",
       "      <td>0.028000</td>\n",
       "      <td>0.030000</td>\n",
       "      <td>0.014000</td>\n",
       "      <td>0.037000</td>\n",
       "      <td>0.003000</td>\n",
       "      <td>0.010000</td>\n",
       "      <td>0.002000</td>\n",
       "      <td>0.002000</td>\n",
       "      <td>0.003000</td>\n",
       "      <td>0.006000</td>\n",
       "    </tr>\n",
       "    <tr>\n",
       "      <th>4</th>\n",
       "      <td>ASSAULT: AGGRAVATED: OTHER FIREARM</td>\n",
       "      <td>P1V</td>\n",
       "      <td>0.156863</td>\n",
       "      <td>0.107843</td>\n",
       "      <td>0.166667</td>\n",
       "      <td>0.117647</td>\n",
       "      <td>0.147059</td>\n",
       "      <td>0.117647</td>\n",
       "      <td>0.186275</td>\n",
       "      <td>0.009804</td>\n",
       "      <td>...</td>\n",
       "      <td>0.029412</td>\n",
       "      <td>0.019608</td>\n",
       "      <td>0.009804</td>\n",
       "      <td>0.019608</td>\n",
       "      <td>0.000000</td>\n",
       "      <td>0.000000</td>\n",
       "      <td>0.000000</td>\n",
       "      <td>0.009804</td>\n",
       "      <td>0.000000</td>\n",
       "      <td>0.000000</td>\n",
       "    </tr>\n",
       "  </tbody>\n",
       "</table>\n",
       "<p>5 rows × 110 columns</p>\n",
       "</div>"
      ],
      "text/plain": [
       "                               crime_type Category   day_Sun   day_Mon  \\\n",
       "0                          ARSON: BY FIRE      P1P  0.138810  0.135977   \n",
       "1     ASSAULT: AGG PO HANDS NO/MIN INJURY       P2  0.151852  0.118519   \n",
       "2            ASSAULT: AGGRAVATED: HANDGUN      P1V  0.149912  0.139405   \n",
       "3  ASSAULT: AGGRAVATED: OTHER DANG WEAPON      P1V  0.125000  0.139000   \n",
       "4      ASSAULT: AGGRAVATED: OTHER FIREARM      P1V  0.156863  0.107843   \n",
       "\n",
       "    day_Tue   day_Wed   day_Thu   day_Fri   day_Sat    hour_0  \\\n",
       "0  0.155807  0.121813  0.130312  0.147309  0.169972  0.073654   \n",
       "1  0.162963  0.122222  0.129630  0.129630  0.185185  0.055556   \n",
       "2  0.141506  0.131349  0.136953  0.133100  0.167776  0.040630   \n",
       "3  0.148000  0.153000  0.133000  0.142000  0.160000  0.034000   \n",
       "4  0.166667  0.117647  0.147059  0.117647  0.186275  0.009804   \n",
       "\n",
       "         ...          community_area_68  community_area_69  community_area_70  \\\n",
       "0        ...                   0.019830           0.016997           0.019830   \n",
       "1        ...                   0.037037           0.048148           0.018519   \n",
       "2        ...                   0.035377           0.031524           0.013310   \n",
       "3        ...                   0.028000           0.030000           0.014000   \n",
       "4        ...                   0.029412           0.019608           0.009804   \n",
       "\n",
       "   community_area_71  community_area_72  community_area_73  community_area_74  \\\n",
       "0           0.022663           0.005666           0.000000           0.002833   \n",
       "1           0.025926           0.003704           0.003704           0.003704   \n",
       "2           0.042732           0.002102           0.017863           0.000000   \n",
       "3           0.037000           0.003000           0.010000           0.002000   \n",
       "4           0.019608           0.000000           0.000000           0.000000   \n",
       "\n",
       "   community_area_75  community_area_76  community_area_77  \n",
       "0           0.005666           0.000000           0.002833  \n",
       "1           0.011111           0.011111           0.007407  \n",
       "2           0.012259           0.002102           0.003152  \n",
       "3           0.002000           0.003000           0.006000  \n",
       "4           0.009804           0.000000           0.000000  \n",
       "\n",
       "[5 rows x 110 columns]"
      ]
     },
     "execution_count": 24,
     "metadata": {},
     "output_type": "execute_result"
    }
   ],
   "source": [
    "data3.head()"
   ]
  },
  {
   "cell_type": "code",
   "execution_count": 25,
   "metadata": {
    "collapsed": false
   },
   "outputs": [
    {
     "data": {
      "text/html": [
       "<div>\n",
       "<table border=\"1\" class=\"dataframe\">\n",
       "  <thead>\n",
       "    <tr style=\"text-align: right;\">\n",
       "      <th></th>\n",
       "      <th>hour_0</th>\n",
       "      <th>hour_1</th>\n",
       "      <th>hour_2</th>\n",
       "      <th>hour_3</th>\n",
       "      <th>hour_4</th>\n",
       "      <th>hour_5</th>\n",
       "      <th>hour_6</th>\n",
       "      <th>hour_7</th>\n",
       "      <th>hour_8</th>\n",
       "      <th>hour_9</th>\n",
       "      <th>...</th>\n",
       "      <th>hour_14</th>\n",
       "      <th>hour_15</th>\n",
       "      <th>hour_16</th>\n",
       "      <th>hour_17</th>\n",
       "      <th>hour_18</th>\n",
       "      <th>hour_19</th>\n",
       "      <th>hour_20</th>\n",
       "      <th>hour_21</th>\n",
       "      <th>hour_22</th>\n",
       "      <th>hour_23</th>\n",
       "    </tr>\n",
       "  </thead>\n",
       "  <tbody>\n",
       "    <tr>\n",
       "      <th>0</th>\n",
       "      <td>0.073654</td>\n",
       "      <td>0.079320</td>\n",
       "      <td>0.076487</td>\n",
       "      <td>0.087819</td>\n",
       "      <td>0.082153</td>\n",
       "      <td>0.073654</td>\n",
       "      <td>0.039660</td>\n",
       "      <td>0.033994</td>\n",
       "      <td>0.014164</td>\n",
       "      <td>0.016997</td>\n",
       "      <td>...</td>\n",
       "      <td>0.019830</td>\n",
       "      <td>0.019830</td>\n",
       "      <td>0.025496</td>\n",
       "      <td>0.022663</td>\n",
       "      <td>0.022663</td>\n",
       "      <td>0.053824</td>\n",
       "      <td>0.033994</td>\n",
       "      <td>0.033994</td>\n",
       "      <td>0.042493</td>\n",
       "      <td>0.062323</td>\n",
       "    </tr>\n",
       "    <tr>\n",
       "      <th>1</th>\n",
       "      <td>0.055556</td>\n",
       "      <td>0.070370</td>\n",
       "      <td>0.033333</td>\n",
       "      <td>0.014815</td>\n",
       "      <td>0.025926</td>\n",
       "      <td>0.003704</td>\n",
       "      <td>0.007407</td>\n",
       "      <td>0.014815</td>\n",
       "      <td>0.018519</td>\n",
       "      <td>0.029630</td>\n",
       "      <td>...</td>\n",
       "      <td>0.055556</td>\n",
       "      <td>0.077778</td>\n",
       "      <td>0.048148</td>\n",
       "      <td>0.059259</td>\n",
       "      <td>0.044444</td>\n",
       "      <td>0.044444</td>\n",
       "      <td>0.077778</td>\n",
       "      <td>0.044444</td>\n",
       "      <td>0.074074</td>\n",
       "      <td>0.044444</td>\n",
       "    </tr>\n",
       "    <tr>\n",
       "      <th>2</th>\n",
       "      <td>0.040630</td>\n",
       "      <td>0.039580</td>\n",
       "      <td>0.033275</td>\n",
       "      <td>0.036778</td>\n",
       "      <td>0.018564</td>\n",
       "      <td>0.014011</td>\n",
       "      <td>0.012609</td>\n",
       "      <td>0.021366</td>\n",
       "      <td>0.025569</td>\n",
       "      <td>0.034676</td>\n",
       "      <td>...</td>\n",
       "      <td>0.055342</td>\n",
       "      <td>0.052189</td>\n",
       "      <td>0.059895</td>\n",
       "      <td>0.056392</td>\n",
       "      <td>0.062347</td>\n",
       "      <td>0.051839</td>\n",
       "      <td>0.053240</td>\n",
       "      <td>0.066550</td>\n",
       "      <td>0.055692</td>\n",
       "      <td>0.056042</td>\n",
       "    </tr>\n",
       "    <tr>\n",
       "      <th>3</th>\n",
       "      <td>0.034000</td>\n",
       "      <td>0.026000</td>\n",
       "      <td>0.018000</td>\n",
       "      <td>0.009000</td>\n",
       "      <td>0.010000</td>\n",
       "      <td>0.015000</td>\n",
       "      <td>0.020000</td>\n",
       "      <td>0.017000</td>\n",
       "      <td>0.033000</td>\n",
       "      <td>0.036000</td>\n",
       "      <td>...</td>\n",
       "      <td>0.045000</td>\n",
       "      <td>0.058000</td>\n",
       "      <td>0.073000</td>\n",
       "      <td>0.078000</td>\n",
       "      <td>0.068000</td>\n",
       "      <td>0.066000</td>\n",
       "      <td>0.059000</td>\n",
       "      <td>0.038000</td>\n",
       "      <td>0.051000</td>\n",
       "      <td>0.041000</td>\n",
       "    </tr>\n",
       "    <tr>\n",
       "      <th>4</th>\n",
       "      <td>0.009804</td>\n",
       "      <td>0.009804</td>\n",
       "      <td>0.029412</td>\n",
       "      <td>0.009804</td>\n",
       "      <td>0.009804</td>\n",
       "      <td>0.019608</td>\n",
       "      <td>0.039216</td>\n",
       "      <td>0.019608</td>\n",
       "      <td>0.000000</td>\n",
       "      <td>0.029412</td>\n",
       "      <td>...</td>\n",
       "      <td>0.029412</td>\n",
       "      <td>0.009804</td>\n",
       "      <td>0.107843</td>\n",
       "      <td>0.117647</td>\n",
       "      <td>0.058824</td>\n",
       "      <td>0.068627</td>\n",
       "      <td>0.078431</td>\n",
       "      <td>0.068627</td>\n",
       "      <td>0.049020</td>\n",
       "      <td>0.088235</td>\n",
       "    </tr>\n",
       "  </tbody>\n",
       "</table>\n",
       "<p>5 rows × 24 columns</p>\n",
       "</div>"
      ],
      "text/plain": [
       "     hour_0    hour_1    hour_2    hour_3    hour_4    hour_5    hour_6  \\\n",
       "0  0.073654  0.079320  0.076487  0.087819  0.082153  0.073654  0.039660   \n",
       "1  0.055556  0.070370  0.033333  0.014815  0.025926  0.003704  0.007407   \n",
       "2  0.040630  0.039580  0.033275  0.036778  0.018564  0.014011  0.012609   \n",
       "3  0.034000  0.026000  0.018000  0.009000  0.010000  0.015000  0.020000   \n",
       "4  0.009804  0.009804  0.029412  0.009804  0.009804  0.019608  0.039216   \n",
       "\n",
       "     hour_7    hour_8    hour_9    ...      hour_14   hour_15   hour_16  \\\n",
       "0  0.033994  0.014164  0.016997    ...     0.019830  0.019830  0.025496   \n",
       "1  0.014815  0.018519  0.029630    ...     0.055556  0.077778  0.048148   \n",
       "2  0.021366  0.025569  0.034676    ...     0.055342  0.052189  0.059895   \n",
       "3  0.017000  0.033000  0.036000    ...     0.045000  0.058000  0.073000   \n",
       "4  0.019608  0.000000  0.029412    ...     0.029412  0.009804  0.107843   \n",
       "\n",
       "    hour_17   hour_18   hour_19   hour_20   hour_21   hour_22   hour_23  \n",
       "0  0.022663  0.022663  0.053824  0.033994  0.033994  0.042493  0.062323  \n",
       "1  0.059259  0.044444  0.044444  0.077778  0.044444  0.074074  0.044444  \n",
       "2  0.056392  0.062347  0.051839  0.053240  0.066550  0.055692  0.056042  \n",
       "3  0.078000  0.068000  0.066000  0.059000  0.038000  0.051000  0.041000  \n",
       "4  0.117647  0.058824  0.068627  0.078431  0.068627  0.049020  0.088235  \n",
       "\n",
       "[5 rows x 24 columns]"
      ]
     },
     "execution_count": 25,
     "metadata": {},
     "output_type": "execute_result"
    }
   ],
   "source": [
    "## Consider only the hour of th day \n",
    "data_hour = data3.iloc[:,9:33]\n",
    "data_hour.head()"
   ]
  },
  {
   "cell_type": "markdown",
   "metadata": {},
   "source": [
    "### a) Copy each cluster’s mean values for hour_0…hour_23 into a DataFrame and create a line graph to visualize these values by cluster. (5 pts)"
   ]
  },
  {
   "cell_type": "code",
   "execution_count": 26,
   "metadata": {
    "collapsed": false
   },
   "outputs": [],
   "source": [
    "## K-means clustering \n",
    "nc = 3 ## number of clusters \n",
    "kmeans_cluster = KMeans(n_clusters=nc, random_state=324).fit(data_hour) ## fit the data to model\n",
    "## assign the cluster labels to the dataframe\n",
    "data_hour['Cluster_labels'] = kmeans_cluster.labels_"
   ]
  },
  {
   "cell_type": "markdown",
   "metadata": {},
   "source": [
    "##### The clustering would be different with different random_state input. \n",
    "The interpretation of the clustering is based on the clusters formed in this state. The inferences might be different for different clusters formed by different random_state."
   ]
  },
  {
   "cell_type": "code",
   "execution_count": 27,
   "metadata": {
    "collapsed": false,
    "scrolled": true
   },
   "outputs": [
    {
     "data": {
      "text/plain": [
       "array([0, 0, 0, 2, 0, 0, 1, 2, 0, 2, 0, 0, 0, 0, 2, 0, 0, 0, 0, 1, 0, 0, 2,\n",
       "       0, 2, 0, 0, 0, 0, 0, 0, 0, 2, 2, 2, 0, 1, 1, 1, 2, 2, 1, 1, 1, 1, 1,\n",
       "       0, 2, 2, 0, 2, 0, 0, 0, 0, 0, 2, 2, 2, 2, 2, 0, 2, 2, 0, 2, 2, 2, 0,\n",
       "       2, 2, 2, 2, 0, 2, 2, 2, 2, 2, 2, 1, 2, 2, 2, 0, 2, 2, 1, 2, 2, 2, 2,\n",
       "       0, 1, 2, 0, 0, 0, 0, 0, 0, 0, 0, 0, 0, 0, 2, 0, 2, 2, 2, 2, 2, 2, 2,\n",
       "       0, 0, 0, 2], dtype=int32)"
      ]
     },
     "execution_count": 27,
     "metadata": {},
     "output_type": "execute_result"
    }
   ],
   "source": [
    "kmeans_cluster.labels_"
   ]
  },
  {
   "cell_type": "code",
   "execution_count": 28,
   "metadata": {
    "collapsed": false
   },
   "outputs": [
    {
     "data": {
      "text/plain": [
       "<matplotlib.figure.Figure at 0x1185e96a0>"
      ]
     },
     "metadata": {},
     "output_type": "display_data"
    },
    {
     "data": {
      "image/png": "[encoded data removed]",
      "text/plain": [
       "<matplotlib.figure.Figure at 0x11874b320>"
      ]
     },
     "metadata": {},
     "output_type": "display_data"
    }
   ],
   "source": [
    "## plot the mean of each hour for each of the three clusters\n",
    "fig=plt.figure(figsize = (30,10))\n",
    "data_hour.groupby(by=data_hour['Cluster_labels']).mean().T.plot(lw='2')\n",
    "plt.xlabel('Hours ')\n",
    "plt.ylabel('Mean of Proportion of all crimes')\n",
    "plt.title('Crime Proportion by day', fontsize = 15)\n",
    "plt.show()"
   ]
  },
  {
   "cell_type": "markdown",
   "metadata": {},
   "source": [
    "#### Figure 1: Chicago Crime proportions by hour for the three clusters "
   ]
  },
  {
   "cell_type": "markdown",
   "metadata": {},
   "source": [
    "### b) Describe the three different hour-of-day trends represented by these three clusters (5 pts).\n",
    "\n",
    "- The first cluster has high values during the night time from 8:00 p.m till 2:00 a.m and peaks around midnight with 0.06 crime proportion. The crime proportion decreases post 2:00 a.m and is the lowest at 5:00 a.m with 0.02 crime proportion. This cluster indicates that the crimes are happening in the dark i.e during the night time. \n",
    "\n",
    "- The second cluster has peak during the day time and spikes around 8:00 a.m and the next spike is around noon. There is steep drop in between the two peaks and further shows a decreasing trend after 3:00 p.m. This cluster has approximately zero crimes during 1:00 a.m. and 5:00 a.m suggesting low or almost no crime happening during the night time while all the crime happening during the day. \n",
    "\n",
    "- The third cluster has a peak around 7:00 pm and has high of 0.06 crime proportion. The crime proportion is low (approximately zero) from 1:00 a.m. to 5:00 a.m. and after that shows a   increasing trend throughout the whole day until it reaches the peak in the late evening. \n",
    "\n",
    "The second cluster has the highest crime proportion among all the three clusters. It can also be observed that all the threee clusters have low crimes during the late night times (1:00 a.m to 5:00 a.m) compared to the day time crime proportions. The first cluster has highest crimes during late night as compared to other two clusters indicating the crimes types happening in this cluster are majority crimes that happen in dark, whereas the second and the thrid clusters have crime types happening during the day time. \n"
   ]
  },
  {
   "cell_type": "markdown",
   "metadata": {
    "collapsed": true
   },
   "source": [
    "### c) Do you notice any consistent trends about which crime types are assigned to which cluster? Note that by a \"crime type\", we are referring to specific crimes such as \"narcotics\" or \"assault\", not the FBI categories. (5 pts"
   ]
  },
  {
   "cell_type": "code",
   "execution_count": 29,
   "metadata": {
    "collapsed": true
   },
   "outputs": [],
   "source": [
    "data3['cluster_label'] = data_hour['Cluster_labels']"
   ]
  },
  {
   "cell_type": "code",
   "execution_count": 30,
   "metadata": {
    "collapsed": false
   },
   "outputs": [
    {
     "data": {
      "text/html": [
       "<div>\n",
       "<table border=\"1\" class=\"dataframe\">\n",
       "  <thead>\n",
       "    <tr style=\"text-align: right;\">\n",
       "      <th></th>\n",
       "      <th>crime_type</th>\n",
       "      <th>cluster_label</th>\n",
       "    </tr>\n",
       "  </thead>\n",
       "  <tbody>\n",
       "    <tr>\n",
       "      <th>0</th>\n",
       "      <td>ARSON: BY FIRE</td>\n",
       "      <td>0</td>\n",
       "    </tr>\n",
       "    <tr>\n",
       "      <th>1</th>\n",
       "      <td>ASSAULT: AGG PO HANDS NO/MIN INJURY</td>\n",
       "      <td>0</td>\n",
       "    </tr>\n",
       "    <tr>\n",
       "      <th>2</th>\n",
       "      <td>ASSAULT: AGGRAVATED: HANDGUN</td>\n",
       "      <td>0</td>\n",
       "    </tr>\n",
       "    <tr>\n",
       "      <th>4</th>\n",
       "      <td>ASSAULT: AGGRAVATED: OTHER FIREARM</td>\n",
       "      <td>0</td>\n",
       "    </tr>\n",
       "    <tr>\n",
       "      <th>5</th>\n",
       "      <td>ASSAULT: AGGRAVATED:KNIFE/CUTTING INSTR</td>\n",
       "      <td>0</td>\n",
       "    </tr>\n",
       "    <tr>\n",
       "      <th>8</th>\n",
       "      <td>BATTERY: AGG PO HANDS NO/MIN INJURY</td>\n",
       "      <td>0</td>\n",
       "    </tr>\n",
       "    <tr>\n",
       "      <th>10</th>\n",
       "      <td>BATTERY: AGG: HANDS/FIST/FEET SERIOUS INJURY</td>\n",
       "      <td>0</td>\n",
       "    </tr>\n",
       "    <tr>\n",
       "      <th>11</th>\n",
       "      <td>BATTERY: AGGRAVATED DOMESTIC BATTERY: HANDS/FI...</td>\n",
       "      <td>0</td>\n",
       "    </tr>\n",
       "    <tr>\n",
       "      <th>12</th>\n",
       "      <td>BATTERY: AGGRAVATED DOMESTIC BATTERY: KNIFE/CU...</td>\n",
       "      <td>0</td>\n",
       "    </tr>\n",
       "    <tr>\n",
       "      <th>13</th>\n",
       "      <td>BATTERY: AGGRAVATED DOMESTIC BATTERY: OTHER DA...</td>\n",
       "      <td>0</td>\n",
       "    </tr>\n",
       "    <tr>\n",
       "      <th>15</th>\n",
       "      <td>BATTERY: AGGRAVATED: HANDGUN</td>\n",
       "      <td>0</td>\n",
       "    </tr>\n",
       "    <tr>\n",
       "      <th>16</th>\n",
       "      <td>BATTERY: AGGRAVATED: OTHER DANG WEAPON</td>\n",
       "      <td>0</td>\n",
       "    </tr>\n",
       "    <tr>\n",
       "      <th>17</th>\n",
       "      <td>BATTERY: AGGRAVATED:KNIFE/CUTTING INSTR</td>\n",
       "      <td>0</td>\n",
       "    </tr>\n",
       "    <tr>\n",
       "      <th>18</th>\n",
       "      <td>BATTERY: DOMESTIC BATTERY SIMPLE</td>\n",
       "      <td>0</td>\n",
       "    </tr>\n",
       "    <tr>\n",
       "      <th>20</th>\n",
       "      <td>BATTERY: SIMPLE</td>\n",
       "      <td>0</td>\n",
       "    </tr>\n",
       "    <tr>\n",
       "      <th>21</th>\n",
       "      <td>BURGLARY: ATTEMPT FORCIBLE ENTRY</td>\n",
       "      <td>0</td>\n",
       "    </tr>\n",
       "    <tr>\n",
       "      <th>23</th>\n",
       "      <td>BURGLARY: HOME INVASION</td>\n",
       "      <td>0</td>\n",
       "    </tr>\n",
       "    <tr>\n",
       "      <th>25</th>\n",
       "      <td>CRIM SEXUAL ASSAULT: AGGRAVATED: OTHER</td>\n",
       "      <td>0</td>\n",
       "    </tr>\n",
       "    <tr>\n",
       "      <th>26</th>\n",
       "      <td>CRIM SEXUAL ASSAULT: NON-AGGRAVATED</td>\n",
       "      <td>0</td>\n",
       "    </tr>\n",
       "    <tr>\n",
       "      <th>27</th>\n",
       "      <td>CRIMINAL DAMAGE: CRIMINAL DEFACEMENT</td>\n",
       "      <td>0</td>\n",
       "    </tr>\n",
       "    <tr>\n",
       "      <th>28</th>\n",
       "      <td>CRIMINAL DAMAGE: TO CITY OF CHICAGO PROPERTY</td>\n",
       "      <td>0</td>\n",
       "    </tr>\n",
       "    <tr>\n",
       "      <th>29</th>\n",
       "      <td>CRIMINAL DAMAGE: TO PROPERTY</td>\n",
       "      <td>0</td>\n",
       "    </tr>\n",
       "    <tr>\n",
       "      <th>30</th>\n",
       "      <td>CRIMINAL DAMAGE: TO STATE SUP PROP</td>\n",
       "      <td>0</td>\n",
       "    </tr>\n",
       "    <tr>\n",
       "      <th>31</th>\n",
       "      <td>CRIMINAL DAMAGE: TO VEHICLE</td>\n",
       "      <td>0</td>\n",
       "    </tr>\n",
       "    <tr>\n",
       "      <th>35</th>\n",
       "      <td>CRIMINAL TRESPASS: TO VEHICLE</td>\n",
       "      <td>0</td>\n",
       "    </tr>\n",
       "    <tr>\n",
       "      <th>46</th>\n",
       "      <td>DECEPTIVE PRACTICE: THEFT OF LABOR/SERVICES</td>\n",
       "      <td>0</td>\n",
       "    </tr>\n",
       "    <tr>\n",
       "      <th>49</th>\n",
       "      <td>HOMICIDE: FIRST DEGREE MURDER</td>\n",
       "      <td>0</td>\n",
       "    </tr>\n",
       "    <tr>\n",
       "      <th>51</th>\n",
       "      <td>INTERFERENCE WITH PUBLIC OFFICER: RESIST/OBSTR...</td>\n",
       "      <td>0</td>\n",
       "    </tr>\n",
       "    <tr>\n",
       "      <th>52</th>\n",
       "      <td>LIQUOR LAW VIOLATION: LIQUOR LICENSE VIOLATION</td>\n",
       "      <td>0</td>\n",
       "    </tr>\n",
       "    <tr>\n",
       "      <th>53</th>\n",
       "      <td>MOTOR VEHICLE THEFT: ATT: AUTOMOBILE</td>\n",
       "      <td>0</td>\n",
       "    </tr>\n",
       "    <tr>\n",
       "      <th>54</th>\n",
       "      <td>MOTOR VEHICLE THEFT: AUTOMOBILE</td>\n",
       "      <td>0</td>\n",
       "    </tr>\n",
       "    <tr>\n",
       "      <th>55</th>\n",
       "      <td>MOTOR VEHICLE THEFT: THEFT/RECOVERY: AUTOMOBILE</td>\n",
       "      <td>0</td>\n",
       "    </tr>\n",
       "    <tr>\n",
       "      <th>61</th>\n",
       "      <td>NARCOTICS: POSS: BARBITUATES</td>\n",
       "      <td>0</td>\n",
       "    </tr>\n",
       "    <tr>\n",
       "      <th>64</th>\n",
       "      <td>NARCOTICS: POSS: COCAINE</td>\n",
       "      <td>0</td>\n",
       "    </tr>\n",
       "    <tr>\n",
       "      <th>68</th>\n",
       "      <td>NARCOTICS: POSS: SYNTHETIC DRUGS</td>\n",
       "      <td>0</td>\n",
       "    </tr>\n",
       "    <tr>\n",
       "      <th>73</th>\n",
       "      <td>OFFENSE INVOLVING CHILDREN: ENDANGERING LIFE/H...</td>\n",
       "      <td>0</td>\n",
       "    </tr>\n",
       "    <tr>\n",
       "      <th>84</th>\n",
       "      <td>OTHER OFFENSE: OTHER VEHICLE OFFENSE</td>\n",
       "      <td>0</td>\n",
       "    </tr>\n",
       "    <tr>\n",
       "      <th>92</th>\n",
       "      <td>PROSTITUTION: SOLICIT ON PUBLIC WAY</td>\n",
       "      <td>0</td>\n",
       "    </tr>\n",
       "    <tr>\n",
       "      <th>95</th>\n",
       "      <td>ROBBERY: AGGRAVATED</td>\n",
       "      <td>0</td>\n",
       "    </tr>\n",
       "    <tr>\n",
       "      <th>96</th>\n",
       "      <td>ROBBERY: AGGRAVATED VEHICULAR HIJACKING</td>\n",
       "      <td>0</td>\n",
       "    </tr>\n",
       "    <tr>\n",
       "      <th>97</th>\n",
       "      <td>ROBBERY: ARMED: HANDGUN</td>\n",
       "      <td>0</td>\n",
       "    </tr>\n",
       "    <tr>\n",
       "      <th>98</th>\n",
       "      <td>ROBBERY: ARMED: OTHER DANGEROUS WEAPON</td>\n",
       "      <td>0</td>\n",
       "    </tr>\n",
       "    <tr>\n",
       "      <th>99</th>\n",
       "      <td>ROBBERY: ARMED:KNIFE/CUTTING INSTRUMENT</td>\n",
       "      <td>0</td>\n",
       "    </tr>\n",
       "    <tr>\n",
       "      <th>100</th>\n",
       "      <td>ROBBERY: ATTEMPT: ARMED-HANDGUN</td>\n",
       "      <td>0</td>\n",
       "    </tr>\n",
       "    <tr>\n",
       "      <th>101</th>\n",
       "      <td>ROBBERY: ATTEMPT: STRONGARM-NO WEAPON</td>\n",
       "      <td>0</td>\n",
       "    </tr>\n",
       "    <tr>\n",
       "      <th>102</th>\n",
       "      <td>ROBBERY: STRONGARM - NO WEAPON</td>\n",
       "      <td>0</td>\n",
       "    </tr>\n",
       "    <tr>\n",
       "      <th>103</th>\n",
       "      <td>ROBBERY: VEHICULAR HIJACKING</td>\n",
       "      <td>0</td>\n",
       "    </tr>\n",
       "    <tr>\n",
       "      <th>104</th>\n",
       "      <td>SEX OFFENSE: AGG CRIMINAL SEXUAL ABUSE</td>\n",
       "      <td>0</td>\n",
       "    </tr>\n",
       "    <tr>\n",
       "      <th>105</th>\n",
       "      <td>SEX OFFENSE: CRIMINAL SEXUAL ABUSE</td>\n",
       "      <td>0</td>\n",
       "    </tr>\n",
       "    <tr>\n",
       "      <th>107</th>\n",
       "      <td>STALKING: SIMPLE</td>\n",
       "      <td>0</td>\n",
       "    </tr>\n",
       "    <tr>\n",
       "      <th>115</th>\n",
       "      <td>WEAPONS VIOLATION: RECKLESS FIREARM DISCHARGE</td>\n",
       "      <td>0</td>\n",
       "    </tr>\n",
       "    <tr>\n",
       "      <th>116</th>\n",
       "      <td>WEAPONS VIOLATION: UNLAWFUL POSS OF HANDGUN</td>\n",
       "      <td>0</td>\n",
       "    </tr>\n",
       "    <tr>\n",
       "      <th>117</th>\n",
       "      <td>WEAPONS VIOLATION: UNLAWFUL USE HANDGUN</td>\n",
       "      <td>0</td>\n",
       "    </tr>\n",
       "  </tbody>\n",
       "</table>\n",
       "</div>"
      ],
      "text/plain": [
       "                                            crime_type  cluster_label\n",
       "0                                       ARSON: BY FIRE              0\n",
       "1                  ASSAULT: AGG PO HANDS NO/MIN INJURY              0\n",
       "2                         ASSAULT: AGGRAVATED: HANDGUN              0\n",
       "4                   ASSAULT: AGGRAVATED: OTHER FIREARM              0\n",
       "5              ASSAULT: AGGRAVATED:KNIFE/CUTTING INSTR              0\n",
       "8                  BATTERY: AGG PO HANDS NO/MIN INJURY              0\n",
       "10        BATTERY: AGG: HANDS/FIST/FEET SERIOUS INJURY              0\n",
       "11   BATTERY: AGGRAVATED DOMESTIC BATTERY: HANDS/FI...              0\n",
       "12   BATTERY: AGGRAVATED DOMESTIC BATTERY: KNIFE/CU...              0\n",
       "13   BATTERY: AGGRAVATED DOMESTIC BATTERY: OTHER DA...              0\n",
       "15                        BATTERY: AGGRAVATED: HANDGUN              0\n",
       "16              BATTERY: AGGRAVATED: OTHER DANG WEAPON              0\n",
       "17             BATTERY: AGGRAVATED:KNIFE/CUTTING INSTR              0\n",
       "18                    BATTERY: DOMESTIC BATTERY SIMPLE              0\n",
       "20                                     BATTERY: SIMPLE              0\n",
       "21                    BURGLARY: ATTEMPT FORCIBLE ENTRY              0\n",
       "23                             BURGLARY: HOME INVASION              0\n",
       "25              CRIM SEXUAL ASSAULT: AGGRAVATED: OTHER              0\n",
       "26                 CRIM SEXUAL ASSAULT: NON-AGGRAVATED              0\n",
       "27                CRIMINAL DAMAGE: CRIMINAL DEFACEMENT              0\n",
       "28        CRIMINAL DAMAGE: TO CITY OF CHICAGO PROPERTY              0\n",
       "29                        CRIMINAL DAMAGE: TO PROPERTY              0\n",
       "30                  CRIMINAL DAMAGE: TO STATE SUP PROP              0\n",
       "31                         CRIMINAL DAMAGE: TO VEHICLE              0\n",
       "35                       CRIMINAL TRESPASS: TO VEHICLE              0\n",
       "46         DECEPTIVE PRACTICE: THEFT OF LABOR/SERVICES              0\n",
       "49                       HOMICIDE: FIRST DEGREE MURDER              0\n",
       "51   INTERFERENCE WITH PUBLIC OFFICER: RESIST/OBSTR...              0\n",
       "52      LIQUOR LAW VIOLATION: LIQUOR LICENSE VIOLATION              0\n",
       "53                MOTOR VEHICLE THEFT: ATT: AUTOMOBILE              0\n",
       "54                     MOTOR VEHICLE THEFT: AUTOMOBILE              0\n",
       "55     MOTOR VEHICLE THEFT: THEFT/RECOVERY: AUTOMOBILE              0\n",
       "61                        NARCOTICS: POSS: BARBITUATES              0\n",
       "64                            NARCOTICS: POSS: COCAINE              0\n",
       "68                    NARCOTICS: POSS: SYNTHETIC DRUGS              0\n",
       "73   OFFENSE INVOLVING CHILDREN: ENDANGERING LIFE/H...              0\n",
       "84                OTHER OFFENSE: OTHER VEHICLE OFFENSE              0\n",
       "92                 PROSTITUTION: SOLICIT ON PUBLIC WAY              0\n",
       "95                                 ROBBERY: AGGRAVATED              0\n",
       "96             ROBBERY: AGGRAVATED VEHICULAR HIJACKING              0\n",
       "97                             ROBBERY: ARMED: HANDGUN              0\n",
       "98              ROBBERY: ARMED: OTHER DANGEROUS WEAPON              0\n",
       "99             ROBBERY: ARMED:KNIFE/CUTTING INSTRUMENT              0\n",
       "100                    ROBBERY: ATTEMPT: ARMED-HANDGUN              0\n",
       "101              ROBBERY: ATTEMPT: STRONGARM-NO WEAPON              0\n",
       "102                     ROBBERY: STRONGARM - NO WEAPON              0\n",
       "103                       ROBBERY: VEHICULAR HIJACKING              0\n",
       "104             SEX OFFENSE: AGG CRIMINAL SEXUAL ABUSE              0\n",
       "105                 SEX OFFENSE: CRIMINAL SEXUAL ABUSE              0\n",
       "107                                   STALKING: SIMPLE              0\n",
       "115      WEAPONS VIOLATION: RECKLESS FIREARM DISCHARGE              0\n",
       "116        WEAPONS VIOLATION: UNLAWFUL POSS OF HANDGUN              0\n",
       "117            WEAPONS VIOLATION: UNLAWFUL USE HANDGUN              0"
      ]
     },
     "execution_count": 30,
     "metadata": {},
     "output_type": "execute_result"
    }
   ],
   "source": [
    "## Cluster 1 \n",
    "data3[['crime_type', 'cluster_label']][data3[['crime_type', 'cluster_label']].\\\n",
    "                                       cluster_label == 0]"
   ]
  },
  {
   "cell_type": "markdown",
   "metadata": {},
   "source": [
    "#### The first cluster has some serious crimes such as Robbery, Assult, Narcotics, ciminal damage, etc. These crimes are mostly happening during the night time from figure 1. "
   ]
  },
  {
   "cell_type": "code",
   "execution_count": 31,
   "metadata": {
    "collapsed": false
   },
   "outputs": [
    {
     "data": {
      "text/html": [
       "<div>\n",
       "<table border=\"1\" class=\"dataframe\">\n",
       "  <thead>\n",
       "    <tr style=\"text-align: right;\">\n",
       "      <th></th>\n",
       "      <th>crime_type</th>\n",
       "      <th>cluster_label</th>\n",
       "    </tr>\n",
       "  </thead>\n",
       "  <tbody>\n",
       "    <tr>\n",
       "      <th>6</th>\n",
       "      <td>ASSAULT: PRO EMP HANDS NO/MIN INJURY</td>\n",
       "      <td>1</td>\n",
       "    </tr>\n",
       "    <tr>\n",
       "      <th>19</th>\n",
       "      <td>BATTERY: PRO EMP HANDS NO/MIN INJURY</td>\n",
       "      <td>1</td>\n",
       "    </tr>\n",
       "    <tr>\n",
       "      <th>36</th>\n",
       "      <td>DECEPTIVE PRACTICE: ATTEMPT - FINANCIAL IDENTI...</td>\n",
       "      <td>1</td>\n",
       "    </tr>\n",
       "    <tr>\n",
       "      <th>37</th>\n",
       "      <td>DECEPTIVE PRACTICE: BOGUS CHECK</td>\n",
       "      <td>1</td>\n",
       "    </tr>\n",
       "    <tr>\n",
       "      <th>38</th>\n",
       "      <td>DECEPTIVE PRACTICE: COUNTERFEIT CHECK</td>\n",
       "      <td>1</td>\n",
       "    </tr>\n",
       "    <tr>\n",
       "      <th>41</th>\n",
       "      <td>DECEPTIVE PRACTICE: FINANCIAL IDENTITY THEFT $...</td>\n",
       "      <td>1</td>\n",
       "    </tr>\n",
       "    <tr>\n",
       "      <th>42</th>\n",
       "      <td>DECEPTIVE PRACTICE: FINANCIAL IDENTITY THEFT O...</td>\n",
       "      <td>1</td>\n",
       "    </tr>\n",
       "    <tr>\n",
       "      <th>43</th>\n",
       "      <td>DECEPTIVE PRACTICE: FORGERY</td>\n",
       "      <td>1</td>\n",
       "    </tr>\n",
       "    <tr>\n",
       "      <th>44</th>\n",
       "      <td>DECEPTIVE PRACTICE: FRAUD OR CONFIDENCE GAME</td>\n",
       "      <td>1</td>\n",
       "    </tr>\n",
       "    <tr>\n",
       "      <th>45</th>\n",
       "      <td>DECEPTIVE PRACTICE: ILLEGAL USE CASH CARD</td>\n",
       "      <td>1</td>\n",
       "    </tr>\n",
       "    <tr>\n",
       "      <th>80</th>\n",
       "      <td>OTHER OFFENSE: HARASSMENT BY TELEPHONE</td>\n",
       "      <td>1</td>\n",
       "    </tr>\n",
       "    <tr>\n",
       "      <th>87</th>\n",
       "      <td>OTHER OFFENSE: SEX OFFENDER: FAIL REG NEW ADD</td>\n",
       "      <td>1</td>\n",
       "    </tr>\n",
       "    <tr>\n",
       "      <th>93</th>\n",
       "      <td>PUBLIC PEACE VIOLATION: BOMB THREAT</td>\n",
       "      <td>1</td>\n",
       "    </tr>\n",
       "  </tbody>\n",
       "</table>\n",
       "</div>"
      ],
      "text/plain": [
       "                                           crime_type  cluster_label\n",
       "6                ASSAULT: PRO EMP HANDS NO/MIN INJURY              1\n",
       "19               BATTERY: PRO EMP HANDS NO/MIN INJURY              1\n",
       "36  DECEPTIVE PRACTICE: ATTEMPT - FINANCIAL IDENTI...              1\n",
       "37                    DECEPTIVE PRACTICE: BOGUS CHECK              1\n",
       "38              DECEPTIVE PRACTICE: COUNTERFEIT CHECK              1\n",
       "41  DECEPTIVE PRACTICE: FINANCIAL IDENTITY THEFT $...              1\n",
       "42  DECEPTIVE PRACTICE: FINANCIAL IDENTITY THEFT O...              1\n",
       "43                        DECEPTIVE PRACTICE: FORGERY              1\n",
       "44       DECEPTIVE PRACTICE: FRAUD OR CONFIDENCE GAME              1\n",
       "45          DECEPTIVE PRACTICE: ILLEGAL USE CASH CARD              1\n",
       "80             OTHER OFFENSE: HARASSMENT BY TELEPHONE              1\n",
       "87      OTHER OFFENSE: SEX OFFENDER: FAIL REG NEW ADD              1\n",
       "93                PUBLIC PEACE VIOLATION: BOMB THREAT              1"
      ]
     },
     "execution_count": 31,
     "metadata": {},
     "output_type": "execute_result"
    }
   ],
   "source": [
    "## Cluster 2\n",
    "(data3[['crime_type', 'cluster_label']][data3[['crime_type', 'cluster_label']].\\\n",
    "                                       cluster_label == 1])"
   ]
  },
  {
   "cell_type": "markdown",
   "metadata": {},
   "source": [
    "#### The second Cluster has minor crimes such as Deceptive Practice. "
   ]
  },
  {
   "cell_type": "code",
   "execution_count": 32,
   "metadata": {
    "collapsed": false
   },
   "outputs": [
    {
     "data": {
      "text/html": [
       "<div>\n",
       "<table border=\"1\" class=\"dataframe\">\n",
       "  <thead>\n",
       "    <tr style=\"text-align: right;\">\n",
       "      <th></th>\n",
       "      <th>crime_type</th>\n",
       "      <th>cluster_label</th>\n",
       "    </tr>\n",
       "  </thead>\n",
       "  <tbody>\n",
       "    <tr>\n",
       "      <th>3</th>\n",
       "      <td>ASSAULT: AGGRAVATED: OTHER DANG WEAPON</td>\n",
       "      <td>2</td>\n",
       "    </tr>\n",
       "    <tr>\n",
       "      <th>7</th>\n",
       "      <td>ASSAULT: SIMPLE</td>\n",
       "      <td>2</td>\n",
       "    </tr>\n",
       "    <tr>\n",
       "      <th>9</th>\n",
       "      <td>BATTERY: AGG: HANDS/FIST/FEET NO/MINOR INJURY</td>\n",
       "      <td>2</td>\n",
       "    </tr>\n",
       "    <tr>\n",
       "      <th>14</th>\n",
       "      <td>BATTERY: AGGRAVATED OF A SENIOR CITIZEN</td>\n",
       "      <td>2</td>\n",
       "    </tr>\n",
       "    <tr>\n",
       "      <th>22</th>\n",
       "      <td>BURGLARY: FORCIBLE ENTRY</td>\n",
       "      <td>2</td>\n",
       "    </tr>\n",
       "    <tr>\n",
       "      <th>24</th>\n",
       "      <td>BURGLARY: UNLAWFUL ENTRY</td>\n",
       "      <td>2</td>\n",
       "    </tr>\n",
       "    <tr>\n",
       "      <th>32</th>\n",
       "      <td>CRIMINAL TRESPASS: TO LAND</td>\n",
       "      <td>2</td>\n",
       "    </tr>\n",
       "    <tr>\n",
       "      <th>33</th>\n",
       "      <td>CRIMINAL TRESPASS: TO RESIDENCE</td>\n",
       "      <td>2</td>\n",
       "    </tr>\n",
       "    <tr>\n",
       "      <th>34</th>\n",
       "      <td>CRIMINAL TRESPASS: TO STATE SUP LAND</td>\n",
       "      <td>2</td>\n",
       "    </tr>\n",
       "    <tr>\n",
       "      <th>39</th>\n",
       "      <td>DECEPTIVE PRACTICE: COUNTERFEITING DOCUMENT</td>\n",
       "      <td>2</td>\n",
       "    </tr>\n",
       "    <tr>\n",
       "      <th>40</th>\n",
       "      <td>DECEPTIVE PRACTICE: CREDIT CARD FRAUD</td>\n",
       "      <td>2</td>\n",
       "    </tr>\n",
       "    <tr>\n",
       "      <th>47</th>\n",
       "      <td>DECEPTIVE PRACTICE: THEFT OF LOST/MISLAID PROP</td>\n",
       "      <td>2</td>\n",
       "    </tr>\n",
       "    <tr>\n",
       "      <th>48</th>\n",
       "      <td>GAMBLING: GAME/DICE</td>\n",
       "      <td>2</td>\n",
       "    </tr>\n",
       "    <tr>\n",
       "      <th>50</th>\n",
       "      <td>INTERFERENCE WITH PUBLIC OFFICER: OBSTRUCTING ...</td>\n",
       "      <td>2</td>\n",
       "    </tr>\n",
       "    <tr>\n",
       "      <th>56</th>\n",
       "      <td>NARCOTICS: FOUND SUSPECT NARCOTICS</td>\n",
       "      <td>2</td>\n",
       "    </tr>\n",
       "    <tr>\n",
       "      <th>57</th>\n",
       "      <td>NARCOTICS: MANU/DEL:CANNABIS 10GM OR LESS</td>\n",
       "      <td>2</td>\n",
       "    </tr>\n",
       "    <tr>\n",
       "      <th>58</th>\n",
       "      <td>NARCOTICS: MANU/DEL:CANNABIS OVER 10 GMS</td>\n",
       "      <td>2</td>\n",
       "    </tr>\n",
       "    <tr>\n",
       "      <th>59</th>\n",
       "      <td>NARCOTICS: MANU/DELIVER: HEROIN (WHITE)</td>\n",
       "      <td>2</td>\n",
       "    </tr>\n",
       "    <tr>\n",
       "      <th>60</th>\n",
       "      <td>NARCOTICS: MANU/DELIVER:CRACK</td>\n",
       "      <td>2</td>\n",
       "    </tr>\n",
       "    <tr>\n",
       "      <th>62</th>\n",
       "      <td>NARCOTICS: POSS: CANNABIS 30GMS OR LESS</td>\n",
       "      <td>2</td>\n",
       "    </tr>\n",
       "    <tr>\n",
       "      <th>63</th>\n",
       "      <td>NARCOTICS: POSS: CANNABIS MORE THAN 30GMS</td>\n",
       "      <td>2</td>\n",
       "    </tr>\n",
       "    <tr>\n",
       "      <th>65</th>\n",
       "      <td>NARCOTICS: POSS: CRACK</td>\n",
       "      <td>2</td>\n",
       "    </tr>\n",
       "    <tr>\n",
       "      <th>66</th>\n",
       "      <td>NARCOTICS: POSS: HEROIN(WHITE)</td>\n",
       "      <td>2</td>\n",
       "    </tr>\n",
       "    <tr>\n",
       "      <th>67</th>\n",
       "      <td>NARCOTICS: POSS: PCP</td>\n",
       "      <td>2</td>\n",
       "    </tr>\n",
       "    <tr>\n",
       "      <th>69</th>\n",
       "      <td>NARCOTICS: POSSESSION OF DRUG EQUIPMENT</td>\n",
       "      <td>2</td>\n",
       "    </tr>\n",
       "    <tr>\n",
       "      <th>70</th>\n",
       "      <td>NARCOTICS: SOLICIT NARCOTICS ON PUBLICWAY</td>\n",
       "      <td>2</td>\n",
       "    </tr>\n",
       "    <tr>\n",
       "      <th>71</th>\n",
       "      <td>OFFENSE INVOLVING CHILDREN: CHILD ABDUCTION</td>\n",
       "      <td>2</td>\n",
       "    </tr>\n",
       "    <tr>\n",
       "      <th>72</th>\n",
       "      <td>OFFENSE INVOLVING CHILDREN: CHILD ABUSE</td>\n",
       "      <td>2</td>\n",
       "    </tr>\n",
       "    <tr>\n",
       "      <th>74</th>\n",
       "      <td>OFFENSE INVOLVING CHILDREN: OTHER OFFENSE</td>\n",
       "      <td>2</td>\n",
       "    </tr>\n",
       "    <tr>\n",
       "      <th>75</th>\n",
       "      <td>OTHER OFFENSE: ANIMAL ABUSE/NEGLECT</td>\n",
       "      <td>2</td>\n",
       "    </tr>\n",
       "    <tr>\n",
       "      <th>76</th>\n",
       "      <td>OTHER OFFENSE: FALSE/STOLEN/ALTERED TRP</td>\n",
       "      <td>2</td>\n",
       "    </tr>\n",
       "    <tr>\n",
       "      <th>77</th>\n",
       "      <td>OTHER OFFENSE: GUN OFFENDER: ANNUAL REGISTRATION</td>\n",
       "      <td>2</td>\n",
       "    </tr>\n",
       "    <tr>\n",
       "      <th>78</th>\n",
       "      <td>OTHER OFFENSE: GUN OFFENDER: DUTY TO REGISTER</td>\n",
       "      <td>2</td>\n",
       "    </tr>\n",
       "    <tr>\n",
       "      <th>79</th>\n",
       "      <td>OTHER OFFENSE: HARASSMENT BY ELECTRONIC MEANS</td>\n",
       "      <td>2</td>\n",
       "    </tr>\n",
       "    <tr>\n",
       "      <th>81</th>\n",
       "      <td>OTHER OFFENSE: LICENSE VIOLATION</td>\n",
       "      <td>2</td>\n",
       "    </tr>\n",
       "    <tr>\n",
       "      <th>82</th>\n",
       "      <td>OTHER OFFENSE: OTHER CRIME AGAINST PERSON</td>\n",
       "      <td>2</td>\n",
       "    </tr>\n",
       "    <tr>\n",
       "      <th>83</th>\n",
       "      <td>OTHER OFFENSE: OTHER CRIME INVOLVING PROPERTY</td>\n",
       "      <td>2</td>\n",
       "    </tr>\n",
       "    <tr>\n",
       "      <th>85</th>\n",
       "      <td>OTHER OFFENSE: OTHER WEAPONS VIOLATION</td>\n",
       "      <td>2</td>\n",
       "    </tr>\n",
       "    <tr>\n",
       "      <th>86</th>\n",
       "      <td>OTHER OFFENSE: PAROLE VIOLATION</td>\n",
       "      <td>2</td>\n",
       "    </tr>\n",
       "    <tr>\n",
       "      <th>88</th>\n",
       "      <td>OTHER OFFENSE: SEX OFFENDER: FAIL TO REGISTER</td>\n",
       "      <td>2</td>\n",
       "    </tr>\n",
       "    <tr>\n",
       "      <th>89</th>\n",
       "      <td>OTHER OFFENSE: TELEPHONE THREAT</td>\n",
       "      <td>2</td>\n",
       "    </tr>\n",
       "    <tr>\n",
       "      <th>90</th>\n",
       "      <td>OTHER OFFENSE: VEHICLE TITLE/REG OFFENSE</td>\n",
       "      <td>2</td>\n",
       "    </tr>\n",
       "    <tr>\n",
       "      <th>91</th>\n",
       "      <td>OTHER OFFENSE: VIOLATE ORDER OF PROTECTION</td>\n",
       "      <td>2</td>\n",
       "    </tr>\n",
       "    <tr>\n",
       "      <th>94</th>\n",
       "      <td>PUBLIC PEACE VIOLATION: RECKLESS CONDUCT</td>\n",
       "      <td>2</td>\n",
       "    </tr>\n",
       "    <tr>\n",
       "      <th>106</th>\n",
       "      <td>SEX OFFENSE: PUBLIC INDECENCY</td>\n",
       "      <td>2</td>\n",
       "    </tr>\n",
       "    <tr>\n",
       "      <th>108</th>\n",
       "      <td>THEFT: $500 AND UNDER</td>\n",
       "      <td>2</td>\n",
       "    </tr>\n",
       "    <tr>\n",
       "      <th>109</th>\n",
       "      <td>THEFT: ATTEMPT THEFT</td>\n",
       "      <td>2</td>\n",
       "    </tr>\n",
       "    <tr>\n",
       "      <th>110</th>\n",
       "      <td>THEFT: FROM BUILDING</td>\n",
       "      <td>2</td>\n",
       "    </tr>\n",
       "    <tr>\n",
       "      <th>111</th>\n",
       "      <td>THEFT: OVER $500</td>\n",
       "      <td>2</td>\n",
       "    </tr>\n",
       "    <tr>\n",
       "      <th>112</th>\n",
       "      <td>THEFT: POCKET-PICKING</td>\n",
       "      <td>2</td>\n",
       "    </tr>\n",
       "    <tr>\n",
       "      <th>113</th>\n",
       "      <td>THEFT: PURSE-SNATCHING</td>\n",
       "      <td>2</td>\n",
       "    </tr>\n",
       "    <tr>\n",
       "      <th>114</th>\n",
       "      <td>THEFT: RETAIL THEFT</td>\n",
       "      <td>2</td>\n",
       "    </tr>\n",
       "    <tr>\n",
       "      <th>118</th>\n",
       "      <td>WEAPONS VIOLATION: UNLAWFUL USE OTHER DANG WEAPON</td>\n",
       "      <td>2</td>\n",
       "    </tr>\n",
       "  </tbody>\n",
       "</table>\n",
       "</div>"
      ],
      "text/plain": [
       "                                            crime_type  cluster_label\n",
       "3               ASSAULT: AGGRAVATED: OTHER DANG WEAPON              2\n",
       "7                                      ASSAULT: SIMPLE              2\n",
       "9        BATTERY: AGG: HANDS/FIST/FEET NO/MINOR INJURY              2\n",
       "14             BATTERY: AGGRAVATED OF A SENIOR CITIZEN              2\n",
       "22                            BURGLARY: FORCIBLE ENTRY              2\n",
       "24                            BURGLARY: UNLAWFUL ENTRY              2\n",
       "32                          CRIMINAL TRESPASS: TO LAND              2\n",
       "33                     CRIMINAL TRESPASS: TO RESIDENCE              2\n",
       "34                CRIMINAL TRESPASS: TO STATE SUP LAND              2\n",
       "39         DECEPTIVE PRACTICE: COUNTERFEITING DOCUMENT              2\n",
       "40               DECEPTIVE PRACTICE: CREDIT CARD FRAUD              2\n",
       "47      DECEPTIVE PRACTICE: THEFT OF LOST/MISLAID PROP              2\n",
       "48                                 GAMBLING: GAME/DICE              2\n",
       "50   INTERFERENCE WITH PUBLIC OFFICER: OBSTRUCTING ...              2\n",
       "56                  NARCOTICS: FOUND SUSPECT NARCOTICS              2\n",
       "57           NARCOTICS: MANU/DEL:CANNABIS 10GM OR LESS              2\n",
       "58            NARCOTICS: MANU/DEL:CANNABIS OVER 10 GMS              2\n",
       "59             NARCOTICS: MANU/DELIVER: HEROIN (WHITE)              2\n",
       "60                       NARCOTICS: MANU/DELIVER:CRACK              2\n",
       "62             NARCOTICS: POSS: CANNABIS 30GMS OR LESS              2\n",
       "63           NARCOTICS: POSS: CANNABIS MORE THAN 30GMS              2\n",
       "65                              NARCOTICS: POSS: CRACK              2\n",
       "66                      NARCOTICS: POSS: HEROIN(WHITE)              2\n",
       "67                                NARCOTICS: POSS: PCP              2\n",
       "69             NARCOTICS: POSSESSION OF DRUG EQUIPMENT              2\n",
       "70           NARCOTICS: SOLICIT NARCOTICS ON PUBLICWAY              2\n",
       "71         OFFENSE INVOLVING CHILDREN: CHILD ABDUCTION              2\n",
       "72             OFFENSE INVOLVING CHILDREN: CHILD ABUSE              2\n",
       "74           OFFENSE INVOLVING CHILDREN: OTHER OFFENSE              2\n",
       "75                 OTHER OFFENSE: ANIMAL ABUSE/NEGLECT              2\n",
       "76             OTHER OFFENSE: FALSE/STOLEN/ALTERED TRP              2\n",
       "77    OTHER OFFENSE: GUN OFFENDER: ANNUAL REGISTRATION              2\n",
       "78       OTHER OFFENSE: GUN OFFENDER: DUTY TO REGISTER              2\n",
       "79       OTHER OFFENSE: HARASSMENT BY ELECTRONIC MEANS              2\n",
       "81                    OTHER OFFENSE: LICENSE VIOLATION              2\n",
       "82           OTHER OFFENSE: OTHER CRIME AGAINST PERSON              2\n",
       "83       OTHER OFFENSE: OTHER CRIME INVOLVING PROPERTY              2\n",
       "85              OTHER OFFENSE: OTHER WEAPONS VIOLATION              2\n",
       "86                     OTHER OFFENSE: PAROLE VIOLATION              2\n",
       "88       OTHER OFFENSE: SEX OFFENDER: FAIL TO REGISTER              2\n",
       "89                     OTHER OFFENSE: TELEPHONE THREAT              2\n",
       "90            OTHER OFFENSE: VEHICLE TITLE/REG OFFENSE              2\n",
       "91          OTHER OFFENSE: VIOLATE ORDER OF PROTECTION              2\n",
       "94            PUBLIC PEACE VIOLATION: RECKLESS CONDUCT              2\n",
       "106                      SEX OFFENSE: PUBLIC INDECENCY              2\n",
       "108                              THEFT: $500 AND UNDER              2\n",
       "109                               THEFT: ATTEMPT THEFT              2\n",
       "110                               THEFT: FROM BUILDING              2\n",
       "111                                   THEFT: OVER $500              2\n",
       "112                              THEFT: POCKET-PICKING              2\n",
       "113                             THEFT: PURSE-SNATCHING              2\n",
       "114                                THEFT: RETAIL THEFT              2\n",
       "118  WEAPONS VIOLATION: UNLAWFUL USE OTHER DANG WEAPON              2"
      ]
     },
     "execution_count": 32,
     "metadata": {},
     "output_type": "execute_result"
    }
   ],
   "source": [
    "## Cluster 3 \n",
    "data3[['crime_type', 'cluster_label']][data3[['crime_type', 'cluster_label']].\\\n",
    "                                       cluster_label == 2]"
   ]
  },
  {
   "cell_type": "markdown",
   "metadata": {},
   "source": [
    "#### The third cluster has majority Narcotics, theft and other offenses. "
   ]
  },
  {
   "cell_type": "markdown",
   "metadata": {
    "collapsed": true
   },
   "source": [
    "- Cluster 1 is mainly assault, battery\n",
    "- Cluster 2 is mainly minor crimes\n",
    "- Cluster 3 is mainly narcotics/fraud"
   ]
  },
  {
   "cell_type": "markdown",
   "metadata": {},
   "source": [
    "### d) Do the three clusters have different day-of-week trends? Again, visualize the trends for each cluster by creating a line graph and discuss any notable differences. (5 pts)"
   ]
  },
  {
   "cell_type": "code",
   "execution_count": 33,
   "metadata": {
    "collapsed": false
   },
   "outputs": [
    {
     "data": {
      "text/html": [
       "<div>\n",
       "<table border=\"1\" class=\"dataframe\">\n",
       "  <thead>\n",
       "    <tr style=\"text-align: right;\">\n",
       "      <th></th>\n",
       "      <th>day_Sun</th>\n",
       "      <th>day_Mon</th>\n",
       "      <th>day_Tue</th>\n",
       "      <th>day_Wed</th>\n",
       "      <th>day_Thu</th>\n",
       "      <th>day_Fri</th>\n",
       "      <th>day_Sat</th>\n",
       "    </tr>\n",
       "  </thead>\n",
       "  <tbody>\n",
       "    <tr>\n",
       "      <th>0</th>\n",
       "      <td>0.138810</td>\n",
       "      <td>0.135977</td>\n",
       "      <td>0.155807</td>\n",
       "      <td>0.121813</td>\n",
       "      <td>0.130312</td>\n",
       "      <td>0.147309</td>\n",
       "      <td>0.169972</td>\n",
       "    </tr>\n",
       "    <tr>\n",
       "      <th>1</th>\n",
       "      <td>0.151852</td>\n",
       "      <td>0.118519</td>\n",
       "      <td>0.162963</td>\n",
       "      <td>0.122222</td>\n",
       "      <td>0.129630</td>\n",
       "      <td>0.129630</td>\n",
       "      <td>0.185185</td>\n",
       "    </tr>\n",
       "    <tr>\n",
       "      <th>2</th>\n",
       "      <td>0.149912</td>\n",
       "      <td>0.139405</td>\n",
       "      <td>0.141506</td>\n",
       "      <td>0.131349</td>\n",
       "      <td>0.136953</td>\n",
       "      <td>0.133100</td>\n",
       "      <td>0.167776</td>\n",
       "    </tr>\n",
       "    <tr>\n",
       "      <th>3</th>\n",
       "      <td>0.125000</td>\n",
       "      <td>0.139000</td>\n",
       "      <td>0.148000</td>\n",
       "      <td>0.153000</td>\n",
       "      <td>0.133000</td>\n",
       "      <td>0.142000</td>\n",
       "      <td>0.160000</td>\n",
       "    </tr>\n",
       "    <tr>\n",
       "      <th>4</th>\n",
       "      <td>0.156863</td>\n",
       "      <td>0.107843</td>\n",
       "      <td>0.166667</td>\n",
       "      <td>0.117647</td>\n",
       "      <td>0.147059</td>\n",
       "      <td>0.117647</td>\n",
       "      <td>0.186275</td>\n",
       "    </tr>\n",
       "  </tbody>\n",
       "</table>\n",
       "</div>"
      ],
      "text/plain": [
       "    day_Sun   day_Mon   day_Tue   day_Wed   day_Thu   day_Fri   day_Sat\n",
       "0  0.138810  0.135977  0.155807  0.121813  0.130312  0.147309  0.169972\n",
       "1  0.151852  0.118519  0.162963  0.122222  0.129630  0.129630  0.185185\n",
       "2  0.149912  0.139405  0.141506  0.131349  0.136953  0.133100  0.167776\n",
       "3  0.125000  0.139000  0.148000  0.153000  0.133000  0.142000  0.160000\n",
       "4  0.156863  0.107843  0.166667  0.117647  0.147059  0.117647  0.186275"
      ]
     },
     "execution_count": 33,
     "metadata": {},
     "output_type": "execute_result"
    }
   ],
   "source": [
    "## data by day of week \n",
    "data_week = data3.iloc[:,2:9]\n",
    "data_week.head()"
   ]
  },
  {
   "cell_type": "code",
   "execution_count": 34,
   "metadata": {
    "collapsed": true
   },
   "outputs": [],
   "source": [
    "data_week['Cluster_labels'] = data_hour['Cluster_labels']"
   ]
  },
  {
   "cell_type": "code",
   "execution_count": 35,
   "metadata": {
    "collapsed": false
   },
   "outputs": [
    {
     "data": {
      "text/plain": [
       "<matplotlib.text.Text at 0x1187e9128>"
      ]
     },
     "execution_count": 35,
     "metadata": {},
     "output_type": "execute_result"
    },
    {
     "data": {
      "text/plain": [
       "<matplotlib.figure.Figure at 0x118843748>"
      ]
     },
     "metadata": {},
     "output_type": "display_data"
    },
    {
     "data": {
      "image/png": "[encoded data removed]",
      "text/plain": [
       "<matplotlib.figure.Figure at 0x11747d780>"
      ]
     },
     "metadata": {},
     "output_type": "display_data"
    }
   ],
   "source": [
    "## plot the day of week clustering \n",
    "fig=plt.figure(figsize = (30,10))\n",
    "data_week.groupby(by=data_week['Cluster_labels']).mean().T.plot(lw='2')\n",
    "plt.xlabel('Day of the week')\n",
    "plt.ylabel('Mean of Proportion of all crimes')\n",
    "plt.title('Proportion of crimes by week', fontsize = 16)"
   ]
  },
  {
   "cell_type": "markdown",
   "metadata": {},
   "source": [
    "#### Figure 2: Crime proportions by day of week. \n",
    "\n",
    "Cluster 0 (Major crimes) are more during the weekends. Crimes in cluster 1 and 2 are follow a almost similar trend during the weekdays. The crimes within the clusters 1 and 2 show peaks at friday.\n",
    "\n",
    "All the three clusters have their peaks around 0.14 to 0.18 \n"
   ]
  },
  {
   "cell_type": "markdown",
   "metadata": {
    "collapsed": true
   },
   "source": [
    "### e) Do the three clusters affect different types of communities/neighborhoods? To answer this question, you could first compute the proportions of \"cluster 1\", \"cluster 2\", and \"cluster 3\" crimes for each community area, and identify particular community areas with disproportionate amounts of a given cluster. You can then use the provided file(data4), to determine whether these community areas have any notable common characteristics (poverty, overcrowding, etc.). (5 pts)¶"
   ]
  },
  {
   "cell_type": "code",
   "execution_count": 36,
   "metadata": {
    "collapsed": false
   },
   "outputs": [
    {
     "data": {
      "text/html": [
       "<div>\n",
       "<table border=\"1\" class=\"dataframe\">\n",
       "  <thead>\n",
       "    <tr style=\"text-align: right;\">\n",
       "      <th></th>\n",
       "      <th>day_Sun</th>\n",
       "      <th>day_Mon</th>\n",
       "      <th>day_Tue</th>\n",
       "      <th>day_Wed</th>\n",
       "      <th>day_Thu</th>\n",
       "      <th>day_Fri</th>\n",
       "      <th>day_Sat</th>\n",
       "      <th>hour_0</th>\n",
       "      <th>hour_1</th>\n",
       "      <th>hour_2</th>\n",
       "      <th>...</th>\n",
       "      <th>community_area_68</th>\n",
       "      <th>community_area_69</th>\n",
       "      <th>community_area_70</th>\n",
       "      <th>community_area_71</th>\n",
       "      <th>community_area_72</th>\n",
       "      <th>community_area_73</th>\n",
       "      <th>community_area_74</th>\n",
       "      <th>community_area_75</th>\n",
       "      <th>community_area_76</th>\n",
       "      <th>community_area_77</th>\n",
       "    </tr>\n",
       "    <tr>\n",
       "      <th>cluster_label</th>\n",
       "      <th></th>\n",
       "      <th></th>\n",
       "      <th></th>\n",
       "      <th></th>\n",
       "      <th></th>\n",
       "      <th></th>\n",
       "      <th></th>\n",
       "      <th></th>\n",
       "      <th></th>\n",
       "      <th></th>\n",
       "      <th></th>\n",
       "      <th></th>\n",
       "      <th></th>\n",
       "      <th></th>\n",
       "      <th></th>\n",
       "      <th></th>\n",
       "      <th></th>\n",
       "      <th></th>\n",
       "      <th></th>\n",
       "      <th></th>\n",
       "      <th></th>\n",
       "    </tr>\n",
       "  </thead>\n",
       "  <tbody>\n",
       "    <tr>\n",
       "      <th>0</th>\n",
       "      <td>0.150886</td>\n",
       "      <td>0.133700</td>\n",
       "      <td>0.137165</td>\n",
       "      <td>0.134891</td>\n",
       "      <td>0.134649</td>\n",
       "      <td>0.150685</td>\n",
       "      <td>0.158025</td>\n",
       "      <td>0.058410</td>\n",
       "      <td>0.045807</td>\n",
       "      <td>0.041814</td>\n",
       "      <td>...</td>\n",
       "      <td>0.027000</td>\n",
       "      <td>0.028354</td>\n",
       "      <td>0.009691</td>\n",
       "      <td>0.029029</td>\n",
       "      <td>0.002729</td>\n",
       "      <td>0.010119</td>\n",
       "      <td>0.001482</td>\n",
       "      <td>0.006931</td>\n",
       "      <td>0.003044</td>\n",
       "      <td>0.006753</td>\n",
       "    </tr>\n",
       "    <tr>\n",
       "      <th>1</th>\n",
       "      <td>0.078582</td>\n",
       "      <td>0.158511</td>\n",
       "      <td>0.167456</td>\n",
       "      <td>0.172347</td>\n",
       "      <td>0.158838</td>\n",
       "      <td>0.162397</td>\n",
       "      <td>0.101868</td>\n",
       "      <td>0.055639</td>\n",
       "      <td>0.008051</td>\n",
       "      <td>0.007266</td>\n",
       "      <td>...</td>\n",
       "      <td>0.019251</td>\n",
       "      <td>0.017245</td>\n",
       "      <td>0.012690</td>\n",
       "      <td>0.022950</td>\n",
       "      <td>0.005480</td>\n",
       "      <td>0.010236</td>\n",
       "      <td>0.003683</td>\n",
       "      <td>0.010348</td>\n",
       "      <td>0.011947</td>\n",
       "      <td>0.013122</td>\n",
       "    </tr>\n",
       "    <tr>\n",
       "      <th>2</th>\n",
       "      <td>0.126694</td>\n",
       "      <td>0.148161</td>\n",
       "      <td>0.149006</td>\n",
       "      <td>0.141457</td>\n",
       "      <td>0.146310</td>\n",
       "      <td>0.153289</td>\n",
       "      <td>0.135084</td>\n",
       "      <td>0.030613</td>\n",
       "      <td>0.019505</td>\n",
       "      <td>0.014753</td>\n",
       "      <td>...</td>\n",
       "      <td>0.028041</td>\n",
       "      <td>0.027521</td>\n",
       "      <td>0.005594</td>\n",
       "      <td>0.029390</td>\n",
       "      <td>0.002722</td>\n",
       "      <td>0.012186</td>\n",
       "      <td>0.002132</td>\n",
       "      <td>0.007710</td>\n",
       "      <td>0.012571</td>\n",
       "      <td>0.006738</td>\n",
       "    </tr>\n",
       "  </tbody>\n",
       "</table>\n",
       "<p>3 rows × 108 columns</p>\n",
       "</div>"
      ],
      "text/plain": [
       "                day_Sun   day_Mon   day_Tue   day_Wed   day_Thu   day_Fri  \\\n",
       "cluster_label                                                               \n",
       "0              0.150886  0.133700  0.137165  0.134891  0.134649  0.150685   \n",
       "1              0.078582  0.158511  0.167456  0.172347  0.158838  0.162397   \n",
       "2              0.126694  0.148161  0.149006  0.141457  0.146310  0.153289   \n",
       "\n",
       "                day_Sat    hour_0    hour_1    hour_2        ...          \\\n",
       "cluster_label                                                ...           \n",
       "0              0.158025  0.058410  0.045807  0.041814        ...           \n",
       "1              0.101868  0.055639  0.008051  0.007266        ...           \n",
       "2              0.135084  0.030613  0.019505  0.014753        ...           \n",
       "\n",
       "               community_area_68  community_area_69  community_area_70  \\\n",
       "cluster_label                                                            \n",
       "0                       0.027000           0.028354           0.009691   \n",
       "1                       0.019251           0.017245           0.012690   \n",
       "2                       0.028041           0.027521           0.005594   \n",
       "\n",
       "               community_area_71  community_area_72  community_area_73  \\\n",
       "cluster_label                                                            \n",
       "0                       0.029029           0.002729           0.010119   \n",
       "1                       0.022950           0.005480           0.010236   \n",
       "2                       0.029390           0.002722           0.012186   \n",
       "\n",
       "               community_area_74  community_area_75  community_area_76  \\\n",
       "cluster_label                                                            \n",
       "0                       0.001482           0.006931           0.003044   \n",
       "1                       0.003683           0.010348           0.011947   \n",
       "2                       0.002132           0.007710           0.012571   \n",
       "\n",
       "               community_area_77  \n",
       "cluster_label                     \n",
       "0                       0.006753  \n",
       "1                       0.013122  \n",
       "2                       0.006738  \n",
       "\n",
       "[3 rows x 108 columns]"
      ]
     },
     "execution_count": 36,
     "metadata": {},
     "output_type": "execute_result"
    }
   ],
   "source": [
    "community = data3.groupby(by=data3['cluster_label']).mean()\n",
    "community.head()"
   ]
  },
  {
   "cell_type": "code",
   "execution_count": 37,
   "metadata": {
    "collapsed": false
   },
   "outputs": [
    {
     "data": {
      "text/html": [
       "<div>\n",
       "<table border=\"1\" class=\"dataframe\">\n",
       "  <thead>\n",
       "    <tr style=\"text-align: right;\">\n",
       "      <th>cluster_label</th>\n",
       "      <th>0</th>\n",
       "      <th>1</th>\n",
       "      <th>2</th>\n",
       "    </tr>\n",
       "  </thead>\n",
       "  <tbody>\n",
       "    <tr>\n",
       "      <th>community_area_1</th>\n",
       "      <td>0.013562</td>\n",
       "      <td>0.012528</td>\n",
       "      <td>0.012591</td>\n",
       "    </tr>\n",
       "    <tr>\n",
       "      <th>community_area_2</th>\n",
       "      <td>0.012788</td>\n",
       "      <td>0.013536</td>\n",
       "      <td>0.010208</td>\n",
       "    </tr>\n",
       "    <tr>\n",
       "      <th>community_area_3</th>\n",
       "      <td>0.012691</td>\n",
       "      <td>0.017650</td>\n",
       "      <td>0.012409</td>\n",
       "    </tr>\n",
       "    <tr>\n",
       "      <th>community_area_4</th>\n",
       "      <td>0.006845</td>\n",
       "      <td>0.011505</td>\n",
       "      <td>0.006358</td>\n",
       "    </tr>\n",
       "    <tr>\n",
       "      <th>community_area_5</th>\n",
       "      <td>0.004130</td>\n",
       "      <td>0.010555</td>\n",
       "      <td>0.002986</td>\n",
       "    </tr>\n",
       "  </tbody>\n",
       "</table>\n",
       "</div>"
      ],
      "text/plain": [
       "cluster_label            0         1         2\n",
       "community_area_1  0.013562  0.012528  0.012591\n",
       "community_area_2  0.012788  0.013536  0.010208\n",
       "community_area_3  0.012691  0.017650  0.012409\n",
       "community_area_4  0.006845  0.011505  0.006358\n",
       "community_area_5  0.004130  0.010555  0.002986"
      ]
     },
     "execution_count": 37,
     "metadata": {},
     "output_type": "execute_result"
    }
   ],
   "source": [
    "community = community.iloc[:,31:].T\n",
    "community.head()"
   ]
  },
  {
   "cell_type": "code",
   "execution_count": 38,
   "metadata": {
    "collapsed": false
   },
   "outputs": [
    {
     "data": {
      "text/html": [
       "<div>\n",
       "<table border=\"1\" class=\"dataframe\">\n",
       "  <thead>\n",
       "    <tr style=\"text-align: right;\">\n",
       "      <th>cluster_label</th>\n",
       "      <th>0</th>\n",
       "      <th>1</th>\n",
       "      <th>2</th>\n",
       "      <th>sum</th>\n",
       "      <th>Cluster0</th>\n",
       "      <th>Cluster1</th>\n",
       "      <th>Cluster2</th>\n",
       "    </tr>\n",
       "  </thead>\n",
       "  <tbody>\n",
       "    <tr>\n",
       "      <th>community_area_1</th>\n",
       "      <td>0.013562</td>\n",
       "      <td>0.012528</td>\n",
       "      <td>0.012591</td>\n",
       "      <td>0.038681</td>\n",
       "      <td>35.061747</td>\n",
       "      <td>32.388831</td>\n",
       "      <td>32.549422</td>\n",
       "    </tr>\n",
       "    <tr>\n",
       "      <th>community_area_2</th>\n",
       "      <td>0.012788</td>\n",
       "      <td>0.013536</td>\n",
       "      <td>0.010208</td>\n",
       "      <td>0.036532</td>\n",
       "      <td>35.004722</td>\n",
       "      <td>37.052187</td>\n",
       "      <td>27.943091</td>\n",
       "    </tr>\n",
       "    <tr>\n",
       "      <th>community_area_3</th>\n",
       "      <td>0.012691</td>\n",
       "      <td>0.017650</td>\n",
       "      <td>0.012409</td>\n",
       "      <td>0.042751</td>\n",
       "      <td>29.686653</td>\n",
       "      <td>41.286668</td>\n",
       "      <td>29.026679</td>\n",
       "    </tr>\n",
       "    <tr>\n",
       "      <th>community_area_4</th>\n",
       "      <td>0.006845</td>\n",
       "      <td>0.011505</td>\n",
       "      <td>0.006358</td>\n",
       "      <td>0.024709</td>\n",
       "      <td>27.703589</td>\n",
       "      <td>46.563556</td>\n",
       "      <td>25.732855</td>\n",
       "    </tr>\n",
       "    <tr>\n",
       "      <th>community_area_5</th>\n",
       "      <td>0.004130</td>\n",
       "      <td>0.010555</td>\n",
       "      <td>0.002986</td>\n",
       "      <td>0.017672</td>\n",
       "      <td>23.373354</td>\n",
       "      <td>59.730575</td>\n",
       "      <td>16.896071</td>\n",
       "    </tr>\n",
       "  </tbody>\n",
       "</table>\n",
       "</div>"
      ],
      "text/plain": [
       "cluster_label            0         1         2       sum   Cluster0  \\\n",
       "community_area_1  0.013562  0.012528  0.012591  0.038681  35.061747   \n",
       "community_area_2  0.012788  0.013536  0.010208  0.036532  35.004722   \n",
       "community_area_3  0.012691  0.017650  0.012409  0.042751  29.686653   \n",
       "community_area_4  0.006845  0.011505  0.006358  0.024709  27.703589   \n",
       "community_area_5  0.004130  0.010555  0.002986  0.017672  23.373354   \n",
       "\n",
       "cluster_label      Cluster1   Cluster2  \n",
       "community_area_1  32.388831  32.549422  \n",
       "community_area_2  37.052187  27.943091  \n",
       "community_area_3  41.286668  29.026679  \n",
       "community_area_4  46.563556  25.732855  \n",
       "community_area_5  59.730575  16.896071  "
      ]
     },
     "execution_count": 38,
     "metadata": {},
     "output_type": "execute_result"
    }
   ],
   "source": [
    "## Calculate the proportion of clusters in each community. \n",
    "community['sum'] = community[0] + community[1] + community[2]\n",
    "community['Cluster0'] = (community[0]/community['sum']) * 100\n",
    "community['Cluster1'] = (community[1]/community['sum']) * 100\n",
    "community['Cluster2'] = (community[2]/community['sum']) * 100\n",
    "community.head()"
   ]
  },
  {
   "cell_type": "code",
   "execution_count": 41,
   "metadata": {
    "collapsed": false
   },
   "outputs": [
    {
     "data": {
      "text/plain": [
       "<matplotlib.figure.Figure at 0x118ef7208>"
      ]
     },
     "metadata": {},
     "output_type": "display_data"
    },
    {
     "data": {
      "image/png": "[encoded data removed]",
      "text/plain": [
       "<matplotlib.figure.Figure at 0x118ea1e10>"
      ]
     },
     "metadata": {},
     "output_type": "display_data"
    }
   ],
   "source": [
    "fig=plt.figure(figsize = (30,10))\n",
    "community.iloc[:,4:].plot(figsize=(16,8), lw='2',\\\n",
    "                            title = 'Spatial distribution of Chicago Crime by community area')\n",
    "plt.show()"
   ]
  },
  {
   "cell_type": "markdown",
   "metadata": {},
   "source": [
    "#### Figure 3: Spatial Distribution of crime proportions(%) in each community area "
   ]
  },
  {
   "cell_type": "code",
   "execution_count": 42,
   "metadata": {
    "collapsed": false
   },
   "outputs": [],
   "source": [
    "data4=pd.read_csv(\"https://serv.cusp.nyu.edu/classes/ML_2016_Spring/ML_2017/Q3_2.csv\")"
   ]
  },
  {
   "cell_type": "code",
   "execution_count": 43,
   "metadata": {
    "collapsed": false
   },
   "outputs": [
    {
     "data": {
      "text/html": [
       "<div>\n",
       "<table border=\"1\" class=\"dataframe\">\n",
       "  <thead>\n",
       "    <tr style=\"text-align: right;\">\n",
       "      <th></th>\n",
       "      <th>Community Area Number</th>\n",
       "      <th>centroid_x</th>\n",
       "      <th>centroid_y</th>\n",
       "      <th>PERCENT OF HOUSING CROWDED</th>\n",
       "      <th>PERCENT HOUSEHOLDS BELOW POVERTY</th>\n",
       "      <th>PERCENT AGED 16+ UNEMPLOYED</th>\n",
       "      <th>PERCENT AGED 25+ WITHOUT HIGH SCHOOL DIPLOMA</th>\n",
       "      <th>PERCENT AGED UNDER 18 OR OVER 64</th>\n",
       "      <th>PER CAPITA INCOME</th>\n",
       "      <th>PERCENT OF HOUSING UNITS VACANT</th>\n",
       "      <th>NUM_CRIMES_2016</th>\n",
       "    </tr>\n",
       "  </thead>\n",
       "  <tbody>\n",
       "    <tr>\n",
       "      <th>count</th>\n",
       "      <td>77.000000</td>\n",
       "      <td>7.700000e+01</td>\n",
       "      <td>7.700000e+01</td>\n",
       "      <td>77.000000</td>\n",
       "      <td>77.000000</td>\n",
       "      <td>77.000000</td>\n",
       "      <td>77.000000</td>\n",
       "      <td>77.000000</td>\n",
       "      <td>77.000000</td>\n",
       "      <td>77.000000</td>\n",
       "      <td>77.000000</td>\n",
       "    </tr>\n",
       "    <tr>\n",
       "      <th>mean</th>\n",
       "      <td>39.000000</td>\n",
       "      <td>1.163753e+06</td>\n",
       "      <td>1.884761e+06</td>\n",
       "      <td>4.923377</td>\n",
       "      <td>21.766234</td>\n",
       "      <td>15.372727</td>\n",
       "      <td>20.341558</td>\n",
       "      <td>35.746753</td>\n",
       "      <td>25563.168831</td>\n",
       "      <td>12.442935</td>\n",
       "      <td>3262.246753</td>\n",
       "    </tr>\n",
       "    <tr>\n",
       "      <th>std</th>\n",
       "      <td>22.371857</td>\n",
       "      <td>1.891460e+04</td>\n",
       "      <td>3.595371e+04</td>\n",
       "      <td>3.682887</td>\n",
       "      <td>11.529957</td>\n",
       "      <td>7.543412</td>\n",
       "      <td>11.823152</td>\n",
       "      <td>7.327716</td>\n",
       "      <td>15293.098259</td>\n",
       "      <td>5.837773</td>\n",
       "      <td>2790.716590</td>\n",
       "    </tr>\n",
       "    <tr>\n",
       "      <th>min</th>\n",
       "      <td>1.000000</td>\n",
       "      <td>1.106851e+06</td>\n",
       "      <td>1.818033e+06</td>\n",
       "      <td>0.300000</td>\n",
       "      <td>3.300000</td>\n",
       "      <td>4.700000</td>\n",
       "      <td>2.500000</td>\n",
       "      <td>13.500000</td>\n",
       "      <td>8201.000000</td>\n",
       "      <td>4.427736</td>\n",
       "      <td>283.000000</td>\n",
       "    </tr>\n",
       "    <tr>\n",
       "      <th>25%</th>\n",
       "      <td>20.000000</td>\n",
       "      <td>1.151302e+06</td>\n",
       "      <td>1.857000e+06</td>\n",
       "      <td>2.300000</td>\n",
       "      <td>13.200000</td>\n",
       "      <td>9.200000</td>\n",
       "      <td>11.800000</td>\n",
       "      <td>32.000000</td>\n",
       "      <td>15754.000000</td>\n",
       "      <td>8.600422</td>\n",
       "      <td>1229.000000</td>\n",
       "    </tr>\n",
       "    <tr>\n",
       "      <th>50%</th>\n",
       "      <td>39.000000</td>\n",
       "      <td>1.164978e+06</td>\n",
       "      <td>1.881505e+06</td>\n",
       "      <td>3.800000</td>\n",
       "      <td>18.900000</td>\n",
       "      <td>13.900000</td>\n",
       "      <td>18.500000</td>\n",
       "      <td>38.100000</td>\n",
       "      <td>21323.000000</td>\n",
       "      <td>10.255709</td>\n",
       "      <td>2296.000000</td>\n",
       "    </tr>\n",
       "    <tr>\n",
       "      <th>75%</th>\n",
       "      <td>58.000000</td>\n",
       "      <td>1.178008e+06</td>\n",
       "      <td>1.916572e+06</td>\n",
       "      <td>6.800000</td>\n",
       "      <td>29.200000</td>\n",
       "      <td>20.000000</td>\n",
       "      <td>26.600000</td>\n",
       "      <td>40.500000</td>\n",
       "      <td>28887.000000</td>\n",
       "      <td>15.839488</td>\n",
       "      <td>4604.000000</td>\n",
       "    </tr>\n",
       "    <tr>\n",
       "      <th>max</th>\n",
       "      <td>77.000000</td>\n",
       "      <td>1.202111e+06</td>\n",
       "      <td>1.947667e+06</td>\n",
       "      <td>15.800000</td>\n",
       "      <td>56.500000</td>\n",
       "      <td>35.900000</td>\n",
       "      <td>54.800000</td>\n",
       "      <td>51.500000</td>\n",
       "      <td>88669.000000</td>\n",
       "      <td>29.411765</td>\n",
       "      <td>15719.000000</td>\n",
       "    </tr>\n",
       "  </tbody>\n",
       "</table>\n",
       "</div>"
      ],
      "text/plain": [
       "       Community Area Number    centroid_x    centroid_y  \\\n",
       "count              77.000000  7.700000e+01  7.700000e+01   \n",
       "mean               39.000000  1.163753e+06  1.884761e+06   \n",
       "std                22.371857  1.891460e+04  3.595371e+04   \n",
       "min                 1.000000  1.106851e+06  1.818033e+06   \n",
       "25%                20.000000  1.151302e+06  1.857000e+06   \n",
       "50%                39.000000  1.164978e+06  1.881505e+06   \n",
       "75%                58.000000  1.178008e+06  1.916572e+06   \n",
       "max                77.000000  1.202111e+06  1.947667e+06   \n",
       "\n",
       "       PERCENT OF HOUSING CROWDED  PERCENT HOUSEHOLDS BELOW POVERTY  \\\n",
       "count                   77.000000                         77.000000   \n",
       "mean                     4.923377                         21.766234   \n",
       "std                      3.682887                         11.529957   \n",
       "min                      0.300000                          3.300000   \n",
       "25%                      2.300000                         13.200000   \n",
       "50%                      3.800000                         18.900000   \n",
       "75%                      6.800000                         29.200000   \n",
       "max                     15.800000                         56.500000   \n",
       "\n",
       "       PERCENT AGED 16+ UNEMPLOYED  \\\n",
       "count                    77.000000   \n",
       "mean                     15.372727   \n",
       "std                       7.543412   \n",
       "min                       4.700000   \n",
       "25%                       9.200000   \n",
       "50%                      13.900000   \n",
       "75%                      20.000000   \n",
       "max                      35.900000   \n",
       "\n",
       "       PERCENT AGED 25+ WITHOUT HIGH SCHOOL DIPLOMA  \\\n",
       "count                                     77.000000   \n",
       "mean                                      20.341558   \n",
       "std                                       11.823152   \n",
       "min                                        2.500000   \n",
       "25%                                       11.800000   \n",
       "50%                                       18.500000   \n",
       "75%                                       26.600000   \n",
       "max                                       54.800000   \n",
       "\n",
       "       PERCENT AGED UNDER 18 OR OVER 64  PER CAPITA INCOME   \\\n",
       "count                         77.000000           77.000000   \n",
       "mean                          35.746753        25563.168831   \n",
       "std                            7.327716        15293.098259   \n",
       "min                           13.500000         8201.000000   \n",
       "25%                           32.000000        15754.000000   \n",
       "50%                           38.100000        21323.000000   \n",
       "75%                           40.500000        28887.000000   \n",
       "max                           51.500000        88669.000000   \n",
       "\n",
       "       PERCENT OF HOUSING UNITS VACANT  NUM_CRIMES_2016  \n",
       "count                        77.000000        77.000000  \n",
       "mean                         12.442935      3262.246753  \n",
       "std                           5.837773      2790.716590  \n",
       "min                           4.427736       283.000000  \n",
       "25%                           8.600422      1229.000000  \n",
       "50%                          10.255709      2296.000000  \n",
       "75%                          15.839488      4604.000000  \n",
       "max                          29.411765     15719.000000  "
      ]
     },
     "execution_count": 43,
     "metadata": {},
     "output_type": "execute_result"
    }
   ],
   "source": [
    "data4.describe()"
   ]
  },
  {
   "cell_type": "markdown",
   "metadata": {},
   "source": [
    "### Communities with Disproportional crimes \n",
    "\n",
    "The communities with greater crime proportions than 2 standard deviation are considered disproportional as 2 standard deviations is considered as 95% confidence interval and anything beyond mean + 2 $sigma is outlier communities."
   ]
  },
  {
   "cell_type": "code",
   "execution_count": 44,
   "metadata": {
    "collapsed": false
   },
   "outputs": [],
   "source": [
    "mean = {}\n",
    "two_sigma = {}\n",
    "mean[0] = community.Cluster0.mean()\n",
    "mean[1] = community.Cluster1.mean()\n",
    "mean[2] = community.Cluster2.mean()\n",
    "two_sigma[0] = community.Cluster0.std()*2\n",
    "two_sigma[1] = community.Cluster1.std()*2\n",
    "two_sigma[2] = community.Cluster2.std()*2"
   ]
  },
  {
   "cell_type": "code",
   "execution_count": 46,
   "metadata": {
    "collapsed": false
   },
   "outputs": [
    {
     "data": {
      "image/png": "[encoded data removed]",
      "text/plain": [
       "<matplotlib.figure.Figure at 0x11ab19588>"
      ]
     },
     "metadata": {},
     "output_type": "display_data"
    }
   ],
   "source": [
    "fig=plt.figure(figsize = (30,10))\n",
    "community.iloc[:,4].plot(figsize=(16,8), kind='bar',\\\n",
    "                            title = 'Spatial distribution of Chicago Crime by community area', alpha=0.7)\n",
    "plt.axhline((mean[0] - two_sigma[0]), c='b', linestyle = '--')\n",
    "plt.axhline((mean[0] + two_sigma[0]), c='b', linestyle = '--')\n",
    "plt.axhline(mean[0],c='r', linestyle = '--' )\n",
    "plt.xlabel('Community area')\n",
    "plt.ylabel('Proportion of crime')\n",
    "plt.title('Proportion of crime in each community for Cluster 1 ', fontsize = 16)\n",
    "plt.show()"
   ]
  },
  {
   "cell_type": "markdown",
   "metadata": {},
   "source": [
    "#### Figure 4: Chicago Crime proportion by communities for Cluster 1"
   ]
  },
  {
   "cell_type": "code",
   "execution_count": 47,
   "metadata": {
    "collapsed": false
   },
   "outputs": [
    {
     "data": {
      "text/plain": [
       "community_area_54    51.338671\n",
       "community_area_59    51.465913\n",
       "Name: Cluster0, dtype: float64"
      ]
     },
     "execution_count": 47,
     "metadata": {},
     "output_type": "execute_result"
    }
   ],
   "source": [
    "Disprop = community[community.Cluster0 > (mean[0] + two_sigma[0])]\n",
    "Disprop.iloc[:,4]"
   ]
  },
  {
   "cell_type": "code",
   "execution_count": 48,
   "metadata": {
    "collapsed": false,
    "scrolled": true
   },
   "outputs": [
    {
     "data": {
      "text/html": [
       "<div>\n",
       "<table border=\"1\" class=\"dataframe\">\n",
       "  <thead>\n",
       "    <tr style=\"text-align: right;\">\n",
       "      <th></th>\n",
       "      <th>Community Area Number</th>\n",
       "      <th>COMMUNITY AREA NAME</th>\n",
       "      <th>centroid_x</th>\n",
       "      <th>centroid_y</th>\n",
       "      <th>PERCENT OF HOUSING CROWDED</th>\n",
       "      <th>PERCENT HOUSEHOLDS BELOW POVERTY</th>\n",
       "      <th>PERCENT AGED 16+ UNEMPLOYED</th>\n",
       "      <th>PERCENT AGED 25+ WITHOUT HIGH SCHOOL DIPLOMA</th>\n",
       "      <th>PERCENT AGED UNDER 18 OR OVER 64</th>\n",
       "      <th>PER CAPITA INCOME</th>\n",
       "      <th>PERCENT OF HOUSING UNITS VACANT</th>\n",
       "      <th>NUM_CRIMES_2016</th>\n",
       "    </tr>\n",
       "  </thead>\n",
       "  <tbody>\n",
       "    <tr>\n",
       "      <th>53</th>\n",
       "      <td>54</td>\n",
       "      <td>Riverdale</td>\n",
       "      <td>1182874.405</td>\n",
       "      <td>1818033.127</td>\n",
       "      <td>5.8</td>\n",
       "      <td>56.5</td>\n",
       "      <td>34.6</td>\n",
       "      <td>27.5</td>\n",
       "      <td>51.5</td>\n",
       "      <td>8201</td>\n",
       "      <td>24.031849</td>\n",
       "      <td>1194</td>\n",
       "    </tr>\n",
       "    <tr>\n",
       "      <th>58</th>\n",
       "      <td>59</td>\n",
       "      <td>McKinley Park</td>\n",
       "      <td>1163984.329</td>\n",
       "      <td>1881505.368</td>\n",
       "      <td>7.2</td>\n",
       "      <td>18.7</td>\n",
       "      <td>13.4</td>\n",
       "      <td>32.9</td>\n",
       "      <td>35.6</td>\n",
       "      <td>16954</td>\n",
       "      <td>10.558449</td>\n",
       "      <td>988</td>\n",
       "    </tr>\n",
       "  </tbody>\n",
       "</table>\n",
       "</div>"
      ],
      "text/plain": [
       "    Community Area Number COMMUNITY AREA NAME   centroid_x   centroid_y  \\\n",
       "53                     54           Riverdale  1182874.405  1818033.127   \n",
       "58                     59       McKinley Park  1163984.329  1881505.368   \n",
       "\n",
       "    PERCENT OF HOUSING CROWDED  PERCENT HOUSEHOLDS BELOW POVERTY  \\\n",
       "53                         5.8                              56.5   \n",
       "58                         7.2                              18.7   \n",
       "\n",
       "    PERCENT AGED 16+ UNEMPLOYED  PERCENT AGED 25+ WITHOUT HIGH SCHOOL DIPLOMA  \\\n",
       "53                         34.6                                          27.5   \n",
       "58                         13.4                                          32.9   \n",
       "\n",
       "    PERCENT AGED UNDER 18 OR OVER 64  PER CAPITA INCOME   \\\n",
       "53                              51.5                8201   \n",
       "58                              35.6               16954   \n",
       "\n",
       "    PERCENT OF HOUSING UNITS VACANT  NUM_CRIMES_2016  \n",
       "53                        24.031849             1194  \n",
       "58                        10.558449              988  "
      ]
     },
     "execution_count": 48,
     "metadata": {},
     "output_type": "execute_result"
    }
   ],
   "source": [
    "data4[(data4['Community Area Number'] == 54) | (data4['Community Area Number'] == 59) ]"
   ]
  },
  {
   "cell_type": "markdown",
   "metadata": {},
   "source": [
    "#### For the Cluster 0 the two communities - Riverdale and Mckinley Park are outliers. The % of households below poverty is 56%, and % of vacant housing is also high for Riverdale, whereas McKinley Park has high % of housing crowded.  "
   ]
  },
  {
   "cell_type": "code",
   "execution_count": 49,
   "metadata": {
    "collapsed": false
   },
   "outputs": [
    {
     "data": {
      "image/png": "[encoded data removed]",
      "text/plain": [
       "<matplotlib.figure.Figure at 0x11abc0588>"
      ]
     },
     "metadata": {},
     "output_type": "display_data"
    }
   ],
   "source": [
    "fig=plt.figure(figsize = (30,10))\n",
    "community.iloc[:,5].plot(figsize=(16,8), kind='bar',\\\n",
    "                            title = 'Spatial distribution of Chicago Crime by community area', alpha=0.7)\n",
    "plt.axhline((mean[1] - two_sigma[1]), c='b', linestyle = '--')\n",
    "plt.axhline((mean[1] + two_sigma[1]), c='b', linestyle = '--')\n",
    "plt.axhline(mean[1],c='r', linestyle = '--' )\n",
    "plt.xlabel('Community area')\n",
    "plt.ylabel('Proportion of crime')\n",
    "plt.title('Proportion of crime in each community for Cluster 2 ', fontsize = 16)\n",
    "plt.show()"
   ]
  },
  {
   "cell_type": "markdown",
   "metadata": {},
   "source": [
    "#### Figure 5: Chicago Crime proportion by communities for Cluster 2"
   ]
  },
  {
   "cell_type": "code",
   "execution_count": 50,
   "metadata": {
    "collapsed": false
   },
   "outputs": [
    {
     "data": {
      "text/plain": [
       "community_area_5    59.730575\n",
       "community_area_9    60.659126\n",
       "Name: Cluster1, dtype: float64"
      ]
     },
     "execution_count": 50,
     "metadata": {},
     "output_type": "execute_result"
    }
   ],
   "source": [
    "Disprop2 = community[community.Cluster1 > (mean[1] + two_sigma[1])]\n",
    "Disprop2.iloc[:,5]"
   ]
  },
  {
   "cell_type": "code",
   "execution_count": 51,
   "metadata": {
    "collapsed": false,
    "scrolled": true
   },
   "outputs": [
    {
     "data": {
      "text/html": [
       "<div>\n",
       "<table border=\"1\" class=\"dataframe\">\n",
       "  <thead>\n",
       "    <tr style=\"text-align: right;\">\n",
       "      <th></th>\n",
       "      <th>Community Area Number</th>\n",
       "      <th>COMMUNITY AREA NAME</th>\n",
       "      <th>centroid_x</th>\n",
       "      <th>centroid_y</th>\n",
       "      <th>PERCENT OF HOUSING CROWDED</th>\n",
       "      <th>PERCENT HOUSEHOLDS BELOW POVERTY</th>\n",
       "      <th>PERCENT AGED 16+ UNEMPLOYED</th>\n",
       "      <th>PERCENT AGED 25+ WITHOUT HIGH SCHOOL DIPLOMA</th>\n",
       "      <th>PERCENT AGED UNDER 18 OR OVER 64</th>\n",
       "      <th>PER CAPITA INCOME</th>\n",
       "      <th>PERCENT OF HOUSING UNITS VACANT</th>\n",
       "      <th>NUM_CRIMES_2016</th>\n",
       "    </tr>\n",
       "  </thead>\n",
       "  <tbody>\n",
       "    <tr>\n",
       "      <th>4</th>\n",
       "      <td>5</td>\n",
       "      <td>North Center</td>\n",
       "      <td>1161104.228</td>\n",
       "      <td>1924056.010</td>\n",
       "      <td>0.3</td>\n",
       "      <td>7.5</td>\n",
       "      <td>5.2</td>\n",
       "      <td>4.5</td>\n",
       "      <td>26.2</td>\n",
       "      <td>57123</td>\n",
       "      <td>10.100636</td>\n",
       "      <td>1280</td>\n",
       "    </tr>\n",
       "    <tr>\n",
       "      <th>8</th>\n",
       "      <td>9</td>\n",
       "      <td>Edison Park</td>\n",
       "      <td>1125542.283</td>\n",
       "      <td>1945199.392</td>\n",
       "      <td>1.1</td>\n",
       "      <td>3.3</td>\n",
       "      <td>6.5</td>\n",
       "      <td>7.4</td>\n",
       "      <td>35.3</td>\n",
       "      <td>40959</td>\n",
       "      <td>4.794521</td>\n",
       "      <td>283</td>\n",
       "    </tr>\n",
       "  </tbody>\n",
       "</table>\n",
       "</div>"
      ],
      "text/plain": [
       "   Community Area Number COMMUNITY AREA NAME   centroid_x   centroid_y  \\\n",
       "4                      5        North Center  1161104.228  1924056.010   \n",
       "8                      9         Edison Park  1125542.283  1945199.392   \n",
       "\n",
       "   PERCENT OF HOUSING CROWDED  PERCENT HOUSEHOLDS BELOW POVERTY  \\\n",
       "4                         0.3                               7.5   \n",
       "8                         1.1                               3.3   \n",
       "\n",
       "   PERCENT AGED 16+ UNEMPLOYED  PERCENT AGED 25+ WITHOUT HIGH SCHOOL DIPLOMA  \\\n",
       "4                          5.2                                           4.5   \n",
       "8                          6.5                                           7.4   \n",
       "\n",
       "   PERCENT AGED UNDER 18 OR OVER 64  PER CAPITA INCOME   \\\n",
       "4                              26.2               57123   \n",
       "8                              35.3               40959   \n",
       "\n",
       "   PERCENT OF HOUSING UNITS VACANT  NUM_CRIMES_2016  \n",
       "4                        10.100636             1280  \n",
       "8                         4.794521              283  "
      ]
     },
     "execution_count": 51,
     "metadata": {},
     "output_type": "execute_result"
    }
   ],
   "source": [
    "data4[(data4['Community Area Number'] == 5) | (data4['Community Area Number'] == 9) ]"
   ]
  },
  {
   "cell_type": "markdown",
   "metadata": {},
   "source": [
    "#### The two communities disproportionate in cluster 1 are North Center and Edison Park. North Center has high number of crimes and high % of vacant housing units, whereas Edison Park has high overcrowding, high % of unemployment in people aged 16+ and low per capita income. "
   ]
  },
  {
   "cell_type": "code",
   "execution_count": 52,
   "metadata": {
    "collapsed": false
   },
   "outputs": [
    {
     "data": {
      "image/png": "[encoded data removed]",
      "text/plain": [
       "<matplotlib.figure.Figure at 0x118a33d30>"
      ]
     },
     "metadata": {},
     "output_type": "display_data"
    }
   ],
   "source": [
    "fig=plt.figure(figsize = (30,10))\n",
    "community.iloc[:,6].plot(figsize=(16,8), kind='bar',\\\n",
    "                            title = 'Spatial distribution of Chicago Crime by community area', alpha=0.7)\n",
    "plt.axhline((mean[2] - two_sigma[2]), c='b', linestyle = '--')\n",
    "plt.axhline((mean[2] + two_sigma[2]), c='b', linestyle = '--')\n",
    "plt.axhline(mean[2],c='r', linestyle = '--' )\n",
    "plt.xlabel('Community area')\n",
    "plt.ylabel('Proportion of crime')\n",
    "plt.title('Proportion of crime in each community for Cluster 3 ', fontsize = 16)\n",
    "plt.show()"
   ]
  },
  {
   "cell_type": "markdown",
   "metadata": {},
   "source": [
    "#### Figure 6: Chicago Crime proportion by communities for Cluster 3"
   ]
  },
  {
   "cell_type": "code",
   "execution_count": 53,
   "metadata": {
    "collapsed": false
   },
   "outputs": [
    {
     "data": {
      "text/plain": [
       "community_area_23    42.877950\n",
       "community_area_25    44.574867\n",
       "community_area_26    46.832943\n",
       "community_area_76    45.609046\n",
       "Name: Cluster2, dtype: float64"
      ]
     },
     "execution_count": 53,
     "metadata": {},
     "output_type": "execute_result"
    }
   ],
   "source": [
    "Disprop3 = community[community.Cluster2 > (mean[2] + two_sigma[2])]\n",
    "Disprop3.iloc[:,6]"
   ]
  },
  {
   "cell_type": "code",
   "execution_count": 54,
   "metadata": {
    "collapsed": false
   },
   "outputs": [
    {
     "data": {
      "text/html": [
       "<div>\n",
       "<table border=\"1\" class=\"dataframe\">\n",
       "  <thead>\n",
       "    <tr style=\"text-align: right;\">\n",
       "      <th></th>\n",
       "      <th>Community Area Number</th>\n",
       "      <th>COMMUNITY AREA NAME</th>\n",
       "      <th>centroid_x</th>\n",
       "      <th>centroid_y</th>\n",
       "      <th>PERCENT OF HOUSING CROWDED</th>\n",
       "      <th>PERCENT HOUSEHOLDS BELOW POVERTY</th>\n",
       "      <th>PERCENT AGED 16+ UNEMPLOYED</th>\n",
       "      <th>PERCENT AGED 25+ WITHOUT HIGH SCHOOL DIPLOMA</th>\n",
       "      <th>PERCENT AGED UNDER 18 OR OVER 64</th>\n",
       "      <th>PER CAPITA INCOME</th>\n",
       "      <th>PERCENT OF HOUSING UNITS VACANT</th>\n",
       "      <th>NUM_CRIMES_2016</th>\n",
       "    </tr>\n",
       "  </thead>\n",
       "  <tbody>\n",
       "    <tr>\n",
       "      <th>22</th>\n",
       "      <td>23</td>\n",
       "      <td>Humboldt park</td>\n",
       "      <td>1151216.159</td>\n",
       "      <td>1906926.141</td>\n",
       "      <td>14.8</td>\n",
       "      <td>33.9</td>\n",
       "      <td>17.3</td>\n",
       "      <td>35.4</td>\n",
       "      <td>38.0</td>\n",
       "      <td>13781</td>\n",
       "      <td>15.839488</td>\n",
       "      <td>7522</td>\n",
       "    </tr>\n",
       "    <tr>\n",
       "      <th>24</th>\n",
       "      <td>25</td>\n",
       "      <td>Austin</td>\n",
       "      <td>1140839.462</td>\n",
       "      <td>1903174.321</td>\n",
       "      <td>6.3</td>\n",
       "      <td>28.6</td>\n",
       "      <td>22.6</td>\n",
       "      <td>24.4</td>\n",
       "      <td>37.9</td>\n",
       "      <td>15957</td>\n",
       "      <td>14.188517</td>\n",
       "      <td>15719</td>\n",
       "    </tr>\n",
       "    <tr>\n",
       "      <th>25</th>\n",
       "      <td>26</td>\n",
       "      <td>West Garfield Park</td>\n",
       "      <td>1148754.852</td>\n",
       "      <td>1898785.758</td>\n",
       "      <td>9.4</td>\n",
       "      <td>41.7</td>\n",
       "      <td>25.8</td>\n",
       "      <td>24.5</td>\n",
       "      <td>43.6</td>\n",
       "      <td>10934</td>\n",
       "      <td>27.504936</td>\n",
       "      <td>5340</td>\n",
       "    </tr>\n",
       "    <tr>\n",
       "      <th>75</th>\n",
       "      <td>76</td>\n",
       "      <td>O`Hare</td>\n",
       "      <td>1106851.170</td>\n",
       "      <td>1934484.285</td>\n",
       "      <td>3.6</td>\n",
       "      <td>15.4</td>\n",
       "      <td>7.1</td>\n",
       "      <td>10.9</td>\n",
       "      <td>30.3</td>\n",
       "      <td>25828</td>\n",
       "      <td>8.237232</td>\n",
       "      <td>1395</td>\n",
       "    </tr>\n",
       "  </tbody>\n",
       "</table>\n",
       "</div>"
      ],
      "text/plain": [
       "    Community Area Number COMMUNITY AREA NAME   centroid_x   centroid_y  \\\n",
       "22                     23       Humboldt park  1151216.159  1906926.141   \n",
       "24                     25              Austin  1140839.462  1903174.321   \n",
       "25                     26  West Garfield Park  1148754.852  1898785.758   \n",
       "75                     76              O`Hare  1106851.170  1934484.285   \n",
       "\n",
       "    PERCENT OF HOUSING CROWDED  PERCENT HOUSEHOLDS BELOW POVERTY  \\\n",
       "22                        14.8                              33.9   \n",
       "24                         6.3                              28.6   \n",
       "25                         9.4                              41.7   \n",
       "75                         3.6                              15.4   \n",
       "\n",
       "    PERCENT AGED 16+ UNEMPLOYED  PERCENT AGED 25+ WITHOUT HIGH SCHOOL DIPLOMA  \\\n",
       "22                         17.3                                          35.4   \n",
       "24                         22.6                                          24.4   \n",
       "25                         25.8                                          24.5   \n",
       "75                          7.1                                          10.9   \n",
       "\n",
       "    PERCENT AGED UNDER 18 OR OVER 64  PER CAPITA INCOME   \\\n",
       "22                              38.0               13781   \n",
       "24                              37.9               15957   \n",
       "25                              43.6               10934   \n",
       "75                              30.3               25828   \n",
       "\n",
       "    PERCENT OF HOUSING UNITS VACANT  NUM_CRIMES_2016  \n",
       "22                        15.839488             7522  \n",
       "24                        14.188517            15719  \n",
       "25                        27.504936             5340  \n",
       "75                         8.237232             1395  "
      ]
     },
     "execution_count": 54,
     "metadata": {},
     "output_type": "execute_result"
    }
   ],
   "source": [
    "data4[(data4['Community Area Number'] == 23) | (data4['Community Area Number'] == 25) | \n",
    "     (data4['Community Area Number'] == 26) | (data4['Community Area Number'] == 76)]"
   ]
  },
  {
   "cell_type": "markdown",
   "metadata": {
    "collapsed": true
   },
   "source": [
    "#### The four communities disproportinate in Cluster 2 are Humboldt Park, Austin, West Garfield Park, O'Hare.  Austin has the highest crimes reported, high unemployment rate and low education levels. "
   ]
  },
  {
   "cell_type": "markdown",
   "metadata": {
    "collapsed": true
   },
   "source": [
    "### f) How well do the three groups formed by clustering hour-of-day trends correspond to the FBI’s division between P1V, P1P, and P2 crimes? (5 pts)"
   ]
  },
  {
   "cell_type": "code",
   "execution_count": 55,
   "metadata": {
    "collapsed": false
   },
   "outputs": [
    {
     "data": {
      "text/html": [
       "<div>\n",
       "<table border=\"1\" class=\"dataframe\">\n",
       "  <thead>\n",
       "    <tr style=\"text-align: right;\">\n",
       "      <th></th>\n",
       "      <th>crime_type</th>\n",
       "      <th>Category</th>\n",
       "      <th>cluster_label</th>\n",
       "    </tr>\n",
       "  </thead>\n",
       "  <tbody>\n",
       "    <tr>\n",
       "      <th>0</th>\n",
       "      <td>ARSON: BY FIRE</td>\n",
       "      <td>P1P</td>\n",
       "      <td>0</td>\n",
       "    </tr>\n",
       "    <tr>\n",
       "      <th>1</th>\n",
       "      <td>ASSAULT: AGG PO HANDS NO/MIN INJURY</td>\n",
       "      <td>P2</td>\n",
       "      <td>0</td>\n",
       "    </tr>\n",
       "    <tr>\n",
       "      <th>2</th>\n",
       "      <td>ASSAULT: AGGRAVATED: HANDGUN</td>\n",
       "      <td>P1V</td>\n",
       "      <td>0</td>\n",
       "    </tr>\n",
       "    <tr>\n",
       "      <th>3</th>\n",
       "      <td>ASSAULT: AGGRAVATED: OTHER DANG WEAPON</td>\n",
       "      <td>P1V</td>\n",
       "      <td>2</td>\n",
       "    </tr>\n",
       "    <tr>\n",
       "      <th>4</th>\n",
       "      <td>ASSAULT: AGGRAVATED: OTHER FIREARM</td>\n",
       "      <td>P1V</td>\n",
       "      <td>0</td>\n",
       "    </tr>\n",
       "  </tbody>\n",
       "</table>\n",
       "</div>"
      ],
      "text/plain": [
       "                               crime_type Category  cluster_label\n",
       "0                          ARSON: BY FIRE      P1P              0\n",
       "1     ASSAULT: AGG PO HANDS NO/MIN INJURY       P2              0\n",
       "2            ASSAULT: AGGRAVATED: HANDGUN      P1V              0\n",
       "3  ASSAULT: AGGRAVATED: OTHER DANG WEAPON      P1V              2\n",
       "4      ASSAULT: AGGRAVATED: OTHER FIREARM      P1V              0"
      ]
     },
     "execution_count": 55,
     "metadata": {},
     "output_type": "execute_result"
    }
   ],
   "source": [
    "data3[['crime_type', 'Category', 'cluster_label']].head()"
   ]
  },
  {
   "cell_type": "code",
   "execution_count": 56,
   "metadata": {
    "collapsed": false
   },
   "outputs": [
    {
     "data": {
      "text/plain": [
       "P2     25\n",
       "P1V    22\n",
       "P1P     6\n",
       "Name: Category, dtype: int64"
      ]
     },
     "execution_count": 56,
     "metadata": {},
     "output_type": "execute_result"
    }
   ],
   "source": [
    "data3[['Category', 'cluster_label']][data3.cluster_label == 0]['Category'].value_counts()"
   ]
  },
  {
   "cell_type": "code",
   "execution_count": 57,
   "metadata": {
    "collapsed": false
   },
   "outputs": [
    {
     "data": {
      "text/plain": [
       "P2    13\n",
       "Name: Category, dtype: int64"
      ]
     },
     "execution_count": 57,
     "metadata": {},
     "output_type": "execute_result"
    }
   ],
   "source": [
    "data3[['Category', 'cluster_label']][data3.cluster_label == 1]['Category'].value_counts()"
   ]
  },
  {
   "cell_type": "code",
   "execution_count": 58,
   "metadata": {
    "collapsed": false
   },
   "outputs": [
    {
     "data": {
      "text/plain": [
       "P2     42\n",
       "P1P     9\n",
       "P1V     2\n",
       "Name: Category, dtype: int64"
      ]
     },
     "execution_count": 58,
     "metadata": {},
     "output_type": "execute_result"
    }
   ],
   "source": [
    "data3[['Category', 'cluster_label']][data3.cluster_label == 2]['Category'].value_counts()"
   ]
  },
  {
   "cell_type": "markdown",
   "metadata": {},
   "source": [
    "- It can be observed from the given data, the proportion of P2 (less serious crime) is common to every cluster. \n",
    "\n",
    "- The P1V crime (serious violent crime) is found in cluster 0 and 2 but the proportion in cluster 2 is very low. \n",
    "\n",
    "- The P1P crime (property crime) is found in cluster 0 and 2 with around similar proportion of about 10-15% of all the types of crime within that cluster. \n",
    "\n",
    "- Cluster 0 and 2 have similar proportions of crime types. \n",
    "\n",
    "- The K-means clustering does not correspond to the FBI's crime categories, it only correspond for cluster 1 but fails for other two cluster.\n"
   ]
  },
  {
   "cell_type": "markdown",
   "metadata": {
    "collapsed": true
   },
   "source": [
    "### g) For part g, you will use the same dataset to compare the clusters produced by several different methods. But this time you should cluster using only the day-of-week (not hour-of-day) attributes. Please perform four different clusterings using (i) k-means, (ii) Gaussian mixture models, (iii) Bottom-up hierarchical clustering with \"single link\" distance metric, and (iv) Bottom-up hierarchical clustering with \"complete link\" distance metric. In each case, you should choose the number of clusters using the silhouette method (or another established method of your choice- please specify). For each clustering, report the number of clusters formed and the number of elements in each cluster. You should also identify any notable similarities or differences between the clusterings. (20 pts)"
   ]
  },
  {
   "cell_type": "code",
   "execution_count": 59,
   "metadata": {
    "collapsed": false
   },
   "outputs": [
    {
     "data": {
      "text/html": [
       "<div>\n",
       "<table border=\"1\" class=\"dataframe\">\n",
       "  <thead>\n",
       "    <tr style=\"text-align: right;\">\n",
       "      <th></th>\n",
       "      <th>day_Sun</th>\n",
       "      <th>day_Mon</th>\n",
       "      <th>day_Tue</th>\n",
       "      <th>day_Wed</th>\n",
       "      <th>day_Thu</th>\n",
       "      <th>day_Fri</th>\n",
       "      <th>day_Sat</th>\n",
       "    </tr>\n",
       "  </thead>\n",
       "  <tbody>\n",
       "    <tr>\n",
       "      <th>0</th>\n",
       "      <td>0.138810</td>\n",
       "      <td>0.135977</td>\n",
       "      <td>0.155807</td>\n",
       "      <td>0.121813</td>\n",
       "      <td>0.130312</td>\n",
       "      <td>0.147309</td>\n",
       "      <td>0.169972</td>\n",
       "    </tr>\n",
       "    <tr>\n",
       "      <th>1</th>\n",
       "      <td>0.151852</td>\n",
       "      <td>0.118519</td>\n",
       "      <td>0.162963</td>\n",
       "      <td>0.122222</td>\n",
       "      <td>0.129630</td>\n",
       "      <td>0.129630</td>\n",
       "      <td>0.185185</td>\n",
       "    </tr>\n",
       "    <tr>\n",
       "      <th>2</th>\n",
       "      <td>0.149912</td>\n",
       "      <td>0.139405</td>\n",
       "      <td>0.141506</td>\n",
       "      <td>0.131349</td>\n",
       "      <td>0.136953</td>\n",
       "      <td>0.133100</td>\n",
       "      <td>0.167776</td>\n",
       "    </tr>\n",
       "    <tr>\n",
       "      <th>3</th>\n",
       "      <td>0.125000</td>\n",
       "      <td>0.139000</td>\n",
       "      <td>0.148000</td>\n",
       "      <td>0.153000</td>\n",
       "      <td>0.133000</td>\n",
       "      <td>0.142000</td>\n",
       "      <td>0.160000</td>\n",
       "    </tr>\n",
       "    <tr>\n",
       "      <th>4</th>\n",
       "      <td>0.156863</td>\n",
       "      <td>0.107843</td>\n",
       "      <td>0.166667</td>\n",
       "      <td>0.117647</td>\n",
       "      <td>0.147059</td>\n",
       "      <td>0.117647</td>\n",
       "      <td>0.186275</td>\n",
       "    </tr>\n",
       "  </tbody>\n",
       "</table>\n",
       "</div>"
      ],
      "text/plain": [
       "    day_Sun   day_Mon   day_Tue   day_Wed   day_Thu   day_Fri   day_Sat\n",
       "0  0.138810  0.135977  0.155807  0.121813  0.130312  0.147309  0.169972\n",
       "1  0.151852  0.118519  0.162963  0.122222  0.129630  0.129630  0.185185\n",
       "2  0.149912  0.139405  0.141506  0.131349  0.136953  0.133100  0.167776\n",
       "3  0.125000  0.139000  0.148000  0.153000  0.133000  0.142000  0.160000\n",
       "4  0.156863  0.107843  0.166667  0.117647  0.147059  0.117647  0.186275"
      ]
     },
     "execution_count": 59,
     "metadata": {},
     "output_type": "execute_result"
    }
   ],
   "source": [
    "data_week = data3.iloc[:,2:9]\n",
    "data_week.head()"
   ]
  },
  {
   "cell_type": "markdown",
   "metadata": {},
   "source": [
    "### K-Means Clustering "
   ]
  },
  {
   "cell_type": "code",
   "execution_count": 60,
   "metadata": {
    "collapsed": false
   },
   "outputs": [
    {
     "name": "stdout",
     "output_type": "stream",
     "text": [
      "For n_clusters =2, the average silhouette_score is :0.2349670398022403\n",
      "For n_clusters =3, the average silhouette_score is :0.2328593052264759\n",
      "For n_clusters =4, the average silhouette_score is :0.21069067164506372\n",
      "For n_clusters =5, the average silhouette_score is :0.15322351417352373\n",
      "For n_clusters =6, the average silhouette_score is :0.17024288003160876\n",
      "For n_clusters =7, the average silhouette_score is :0.1733534845636119\n",
      "For n_clusters =8, the average silhouette_score is :0.18421200842187166\n",
      "For n_clusters =9, the average silhouette_score is :0.1376440134161604\n"
     ]
    }
   ],
   "source": [
    "# using Silhouette method to calculate the number of clusters\n",
    "from sklearn.metrics import silhouette_samples, silhouette_score\n",
    "import matplotlib.cm as cm\n",
    "import numpy as np\n",
    "\n",
    "range_n_clusters = range(2,10)\n",
    "for n_clusters in range_n_clusters:\n",
    "    km = KMeans(n_clusters=n_clusters, random_state= 324)\n",
    "    cluster_labels = km.fit_predict(data_week)\n",
    "    silhouette_avg = silhouette_score(data_week, cluster_labels)\n",
    "    print(\"For n_clusters ={},\".format(n_clusters)+\" the average silhouette_score is :{}\".format(silhouette_avg))"
   ]
  },
  {
   "cell_type": "markdown",
   "metadata": {},
   "source": [
    "#### From the above silhoutte scores the optimal value is at 3 clusters. "
   ]
  },
  {
   "cell_type": "code",
   "execution_count": 61,
   "metadata": {
    "collapsed": false
   },
   "outputs": [
    {
     "name": "stdout",
     "output_type": "stream",
     "text": [
      "[2 1 1 2 1 2 0 2 1 2 1 1 1 1 1 1 1 1 1 0 1 2 2 2 2 2 1 2 2 2 0 1 2 2 2 2 0\n",
      " 0 0 2 2 0 0 0 0 1 1 2 2 1 2 1 1 1 2 1 2 2 0 2 2 0 2 0 1 2 2 2 0 2 2 1 2 2\n",
      " 1 0 2 2 0 2 2 0 2 2 2 2 2 1 0 2 2 2 0 0 2 2 1 2 2 1 2 2 2 1 0 2 2 2 2 2 2\n",
      " 2 1 2 2 1 2 1 2]\n"
     ]
    }
   ],
   "source": [
    "n=3 # number of clusters\n",
    "\n",
    "#train the model.\n",
    "km=KMeans(random_state=324,n_clusters=n)\n",
    "res1=km.fit(data_week)\n",
    "#result.\n",
    "print(res1.labels_)"
   ]
  },
  {
   "cell_type": "code",
   "execution_count": 62,
   "metadata": {
    "collapsed": false
   },
   "outputs": [
    {
     "name": "stdout",
     "output_type": "stream",
     "text": [
      "The number of elements in cluster 1 is  21\n",
      "The number of elements in cluster 2 is  33\n",
      "The number of elements in cluster 3 is  65\n"
     ]
    }
   ],
   "source": [
    "print(\"The number of elements in cluster 1 is \", len(res1.labels_[res1.labels_ == 0]))\n",
    "print(\"The number of elements in cluster 2 is \", len(res1.labels_[res1.labels_ == 1]))\n",
    "print(\"The number of elements in cluster 3 is \", len(res1.labels_[res1.labels_ == 2]))"
   ]
  },
  {
   "cell_type": "markdown",
   "metadata": {},
   "source": [
    "### Guassian Mixture Model"
   ]
  },
  {
   "cell_type": "code",
   "execution_count": 64,
   "metadata": {
    "collapsed": false
   },
   "outputs": [
    {
     "name": "stdout",
     "output_type": "stream",
     "text": [
      "For n_clusters = 2 The average silhouette_score is : 0.25672726757\n",
      "For n_clusters = 3 The average silhouette_score is : 0.281320894177\n",
      "For n_clusters = 4 The average silhouette_score is : 0.10952054126\n",
      "For n_clusters = 5 The average silhouette_score is : 0.110533414176\n",
      "For n_clusters = 6 The average silhouette_score is : 0.105071027279\n",
      "For n_clusters = 7 The average silhouette_score is : 0.119134104656\n",
      "For n_clusters = 8 The average silhouette_score is : 0.0840414039295\n",
      "For n_clusters = 9 The average silhouette_score is : 0.0884315305537\n",
      "For n_clusters = 10 The average silhouette_score is : 0.112441106685\n"
     ]
    }
   ],
   "source": [
    "from sklearn.mixture import GaussianMixture\n",
    "\n",
    "range_n_clusters = [2, 3, 4, 5, 6, 7, 8, 9, 10]\n",
    "for n_clusters in range_n_clusters:\n",
    "    clusterer = GaussianMixture(n_components=n_clusters, random_state=1134)\n",
    "    clusterer.fit(data_week)\n",
    "    cluster_labels = clusterer.predict(data_week)\n",
    "    silhouette_avg = silhouette_score(data_week, cluster_labels)\n",
    "    print(\"For n_clusters =\", n_clusters, \"The average silhouette_score is :\", silhouette_avg)"
   ]
  },
  {
   "cell_type": "markdown",
   "metadata": {},
   "source": [
    "#### From the above silhoutte scores the optimal value is at 3 clusters."
   ]
  },
  {
   "cell_type": "code",
   "execution_count": 67,
   "metadata": {
    "collapsed": false
   },
   "outputs": [
    {
     "data": {
      "text/plain": [
       "array([1, 1, 1, 1, 0, 1, 2, 1, 1, 1, 0, 0, 1, 1, 0, 1, 1, 1, 1, 2, 1, 1, 1,\n",
       "       0, 1, 0, 0, 1, 1, 1, 2, 1, 1, 1, 1, 1, 2, 2, 2, 1, 1, 1, 1, 2, 2, 1,\n",
       "       1, 1, 1, 1, 1, 1, 0, 1, 1, 1, 1, 1, 2, 1, 2, 0, 1, 1, 0, 1, 1, 1, 2,\n",
       "       1, 1, 0, 1, 1, 0, 2, 1, 1, 2, 1, 1, 2, 1, 0, 1, 1, 1, 1, 2, 1, 1, 1,\n",
       "       2, 2, 1, 1, 0, 1, 1, 1, 1, 1, 1, 1, 2, 1, 1, 0, 1, 1, 1, 1, 1, 1, 1,\n",
       "       0, 1, 1, 1])"
      ]
     },
     "execution_count": 67,
     "metadata": {},
     "output_type": "execute_result"
    }
   ],
   "source": [
    "# Guassian Mixture:\n",
    "n = 3\n",
    "GM=GaussianMixture(n_components=n, random_state= 1134)\n",
    "GM.fit(data_week)\n",
    "res_Mix = GM.predict(data_week)\n",
    "res_Mix"
   ]
  },
  {
   "cell_type": "code",
   "execution_count": 68,
   "metadata": {
    "collapsed": false
   },
   "outputs": [
    {
     "name": "stdout",
     "output_type": "stream",
     "text": [
      "The number of elements in cluster 1 is  16\n",
      "The number of elements in cluster 2 is  85\n",
      "The number of elements in cluster 3 is  18\n"
     ]
    }
   ],
   "source": [
    "print(\"The number of elements in cluster 1 is \", len(res_Mix[res_Mix == 0]))\n",
    "print(\"The number of elements in cluster 2 is \", len(res_Mix[res_Mix == 1]))\n",
    "print(\"The number of elements in cluster 3 is \", len(res_Mix[res_Mix== 2]))"
   ]
  },
  {
   "cell_type": "markdown",
   "metadata": {},
   "source": [
    "### Bottom-up hierarchical clustering with \"single link\" distance metric"
   ]
  },
  {
   "cell_type": "code",
   "execution_count": 69,
   "metadata": {
    "collapsed": false
   },
   "outputs": [
    {
     "data": {
      "text/plain": [
       "array([[  7.00000000e+00,   7.90000000e+01,   6.68118134e-03,\n",
       "          2.00000000e+00],\n",
       "       [  8.90000000e+01,   1.19000000e+02,   7.71772696e-03,\n",
       "          3.00000000e+00],\n",
       "       [  1.10000000e+02,   1.14000000e+02,   9.30031238e-03,\n",
       "          2.00000000e+00]])"
      ]
     },
     "execution_count": 69,
     "metadata": {},
     "output_type": "execute_result"
    }
   ],
   "source": [
    "X = np.array(data_week)\n",
    "Z = linkage(X, 'single')\n",
    "Z[:3]"
   ]
  },
  {
   "cell_type": "code",
   "execution_count": 70,
   "metadata": {
    "collapsed": false
   },
   "outputs": [
    {
     "data": {
      "image/png": "[encoded data removed]",
      "text/plain": [
       "<matplotlib.figure.Figure at 0x11b5d7908>"
      ]
     },
     "metadata": {},
     "output_type": "display_data"
    }
   ],
   "source": [
    "from scipy.cluster.hierarchy import dendrogram, linkage\n",
    "plt.figure(figsize=(25, 10))\n",
    "plt.title('Hierarchical Clustering Dendrogram')\n",
    "plt.xlabel('sample index')\n",
    "plt.ylabel('distance')\n",
    "dendrogram(\n",
    "    Z,\n",
    "    leaf_rotation=90.,  # rotates the x axis labels\n",
    "    leaf_font_size=12.,  # font size for the x axis labels\n",
    ")\n",
    "plt.show()"
   ]
  },
  {
   "cell_type": "markdown",
   "metadata": {},
   "source": [
    "### Figure 7: Dendrogram for Single Link Cluster for Chicago Crime proportion"
   ]
  },
  {
   "cell_type": "code",
   "execution_count": 71,
   "metadata": {
    "collapsed": false
   },
   "outputs": [
    {
     "data": {
      "text/plain": [
       "array([1, 1, 1, 1, 1, 1, 1, 1, 1, 1, 1, 1, 1, 1, 1, 1, 1, 1, 1, 1, 1, 1, 1,\n",
       "       1, 1, 1, 1, 1, 1, 1, 1, 1, 1, 1, 1, 1, 1, 1, 1, 1, 1, 1, 1, 1, 1, 1,\n",
       "       1, 1, 1, 1, 1, 1, 3, 1, 1, 1, 1, 1, 1, 1, 1, 1, 1, 1, 1, 1, 1, 1, 1,\n",
       "       1, 1, 1, 1, 1, 2, 1, 1, 1, 1, 1, 1, 1, 1, 1, 1, 1, 1, 1, 1, 1, 1, 1,\n",
       "       1, 1, 1, 1, 1, 1, 1, 1, 1, 1, 1, 1, 1, 1, 1, 1, 1, 1, 1, 1, 1, 1, 1,\n",
       "       1, 1, 1, 1], dtype=int32)"
      ]
     },
     "execution_count": 71,
     "metadata": {},
     "output_type": "execute_result"
    }
   ],
   "source": [
    "from scipy.cluster.hierarchy import fcluster\n",
    "res2 = fcluster(Z, 3, criterion='maxclust')\n",
    "res2"
   ]
  },
  {
   "cell_type": "code",
   "execution_count": 72,
   "metadata": {
    "collapsed": false
   },
   "outputs": [
    {
     "name": "stdout",
     "output_type": "stream",
     "text": [
      "The number of elements in cluster 1 is  117\n",
      "the number of elements in cluster 2 is  1\n",
      "the number of elements in cluster 3 is  1\n"
     ]
    }
   ],
   "source": [
    "print(\"The number of elements in cluster 1 is \", len(res2[res2 == 1]))\n",
    "print(\"the number of elements in cluster 2 is \", len(res2[res2 == 2]))\n",
    "print(\"the number of elements in cluster 3 is \", len(res2[res2 == 3]))"
   ]
  },
  {
   "cell_type": "markdown",
   "metadata": {},
   "source": [
    "### Bottom-up hierarchical clustering with \"complete link\" distance metric."
   ]
  },
  {
   "cell_type": "code",
   "execution_count": 73,
   "metadata": {
    "collapsed": false
   },
   "outputs": [
    {
     "data": {
      "text/plain": [
       "array([[  7.00000000e+00,   7.90000000e+01,   6.68118134e-03,\n",
       "          2.00000000e+00],\n",
       "       [  1.10000000e+02,   1.14000000e+02,   9.30031238e-03,\n",
       "          2.00000000e+00],\n",
       "       [  8.90000000e+01,   1.19000000e+02,   1.14623810e-02,\n",
       "          3.00000000e+00]])"
      ]
     },
     "execution_count": 73,
     "metadata": {},
     "output_type": "execute_result"
    }
   ],
   "source": [
    "Z1 = linkage(X, 'complete')\n",
    "Z1[:3]"
   ]
  },
  {
   "cell_type": "code",
   "execution_count": 74,
   "metadata": {
    "collapsed": false
   },
   "outputs": [
    {
     "data": {
      "image/png": "[encoded data removed]",
      "text/plain": [
       "<matplotlib.figure.Figure at 0x11a9a56d8>"
      ]
     },
     "metadata": {},
     "output_type": "display_data"
    }
   ],
   "source": [
    "plt.figure(figsize=(25, 10))\n",
    "plt.title('Hierarchical Clustering Dendrogram')\n",
    "plt.xlabel('sample index')\n",
    "plt.ylabel('distance')\n",
    "dendrogram(\n",
    "    Z1,\n",
    "    leaf_rotation=90.,  # rotates the x axis labels\n",
    "    leaf_font_size=12.,  # font size for the x axis labels\n",
    ")\n",
    "plt.show()"
   ]
  },
  {
   "cell_type": "markdown",
   "metadata": {},
   "source": [
    "### Figure 8: Dendrogram of Complete Link Cluster for Chicago Crime proportion"
   ]
  },
  {
   "cell_type": "code",
   "execution_count": 75,
   "metadata": {
    "collapsed": false
   },
   "outputs": [
    {
     "data": {
      "text/plain": [
       "array([3, 3, 3, 2, 3, 3, 2, 2, 3, 2, 3, 3, 3, 3, 3, 3, 3, 3, 3, 2, 3, 2, 2,\n",
       "       3, 2, 3, 3, 3, 2, 3, 2, 3, 2, 2, 2, 3, 2, 2, 2, 3, 3, 2, 2, 2, 2, 3,\n",
       "       3, 2, 2, 3, 3, 3, 1, 3, 3, 3, 2, 2, 2, 2, 2, 2, 2, 2, 3, 2, 3, 3, 2,\n",
       "       2, 2, 3, 3, 2, 1, 3, 2, 3, 2, 2, 3, 3, 2, 3, 3, 3, 3, 3, 2, 2, 2, 2,\n",
       "       3, 2, 2, 3, 3, 3, 3, 3, 2, 2, 3, 3, 3, 3, 3, 3, 2, 2, 2, 2, 3, 3, 2,\n",
       "       3, 2, 3, 2], dtype=int32)"
      ]
     },
     "execution_count": 75,
     "metadata": {},
     "output_type": "execute_result"
    }
   ],
   "source": [
    "Z1 = linkage(X, 'complete')\n",
    "res3 = fcluster(Z1, 3, criterion='maxclust') #using maxclust and defining the number of clusters =3\n",
    "res3"
   ]
  },
  {
   "cell_type": "code",
   "execution_count": 76,
   "metadata": {
    "collapsed": false
   },
   "outputs": [
    {
     "name": "stdout",
     "output_type": "stream",
     "text": [
      "the number of elements in cluster 1 is  2\n",
      "the number of elements in cluster 2 is  54\n",
      "the number of elements in cluster 3 is  63\n"
     ]
    }
   ],
   "source": [
    "print(\"the number of elements in cluster 1 is \", len(res3[res3 == 1]))\n",
    "print(\"the number of elements in cluster 2 is \", len(res3[res3 == 2]))\n",
    "print(\"the number of elements in cluster 3 is \", len(res3[res3 == 3]))"
   ]
  },
  {
   "cell_type": "markdown",
   "metadata": {
    "collapsed": true
   },
   "source": [
    "#### It can observed that the K-Mean Clustering and the Guassian Mixture Model are similar whereas Single Link and Complete Link are similar. These similarities are due to the way the partitioning of the data is done, for K-mean the distance metric is centriod and for single and complete links the distance metric used is euclidean. \n",
    "#### Thus the dissimilarity is bound to be seen in K-means and Single or Complete Link clsutering. \n",
    "#### However, single link clustering allows to use only 2 clusters(cluster 2 = 1 element) while complete link allows three clusters with only 2 elements in one cluster. The approach here is based on distance but calculated differently. this is reasonable because of their circular nature."
   ]
  },
  {
   "cell_type": "code",
   "execution_count": null,
   "metadata": {
    "collapsed": true
   },
   "outputs": [],
   "source": []
  }
 ],
 "metadata": {
  "anaconda-cloud": {},
  "kernelspec": {
   "display_name": "Python [conda root]",
   "language": "python",
   "name": "conda-root-py"
  },
  "language_info": {
   "codemirror_mode": {
    "name": "ipython",
    "version": 3
   },
   "file_extension": ".py",
   "mimetype": "text/x-python",
   "name": "python",
   "nbconvert_exporter": "python",
   "pygments_lexer": "ipython3",
   "version": "3.5.2"
  }
 },
 "nbformat": 4,
 "nbformat_minor": 2
}
